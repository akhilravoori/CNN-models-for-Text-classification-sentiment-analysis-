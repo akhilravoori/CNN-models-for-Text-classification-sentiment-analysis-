{
  "nbformat": 4,
  "nbformat_minor": 0,
  "metadata": {
    "colab": {
      "name": "Article 370 tweets testing",
      "provenance": [],
      "collapsed_sections": []
    },
    "kernelspec": {
      "name": "python3",
      "display_name": "Python 3"
    }
  },
  "cells": [
    {
      "cell_type": "markdown",
      "metadata": {
        "id": "DQtzLeWSVsic",
        "colab_type": "text"
      },
      "source": [
        "Loading the dataset"
      ]
    },
    {
      "cell_type": "code",
      "metadata": {
        "id": "1FolGF13i6pc",
        "colab_type": "code",
        "colab": {}
      },
      "source": [
        "import pandas as pd  "
      ],
      "execution_count": null,
      "outputs": []
    },
    {
      "cell_type": "code",
      "metadata": {
        "id": "Ub8zvbHqjWb1",
        "colab_type": "code",
        "colab": {
          "base_uri": "https://localhost:8080/",
          "height": 206
        },
        "outputId": "96287a00-3262-48a7-ffb8-5a733d32b09b"
      },
      "source": [
        "data = pd.read_csv('use_this.csv')\n",
        "data.head()"
      ],
      "execution_count": null,
      "outputs": [
        {
          "output_type": "execute_result",
          "data": {
            "text/html": [
              "<div>\n",
              "<style scoped>\n",
              "    .dataframe tbody tr th:only-of-type {\n",
              "        vertical-align: middle;\n",
              "    }\n",
              "\n",
              "    .dataframe tbody tr th {\n",
              "        vertical-align: top;\n",
              "    }\n",
              "\n",
              "    .dataframe thead th {\n",
              "        text-align: right;\n",
              "    }\n",
              "</style>\n",
              "<table border=\"1\" class=\"dataframe\">\n",
              "  <thead>\n",
              "    <tr style=\"text-align: right;\">\n",
              "      <th></th>\n",
              "      <th>Unnamed: 0</th>\n",
              "      <th>Unnamed: 0.1</th>\n",
              "      <th>tweet</th>\n",
              "      <th>sentiment</th>\n",
              "      <th>label</th>\n",
              "    </tr>\n",
              "  </thead>\n",
              "  <tbody>\n",
              "    <tr>\n",
              "      <th>0</th>\n",
              "      <td>0</td>\n",
              "      <td>0</td>\n",
              "      <td>agree ayushmann khurrana best documentary revo...</td>\n",
              "      <td>1</td>\n",
              "      <td>1</td>\n",
              "    </tr>\n",
              "    <tr>\n",
              "      <th>1</th>\n",
              "      <td>1</td>\n",
              "      <td>1</td>\n",
              "      <td>pm modi imran khan asks kashmir given pakistan...</td>\n",
              "      <td>0</td>\n",
              "      <td>0</td>\n",
              "    </tr>\n",
              "    <tr>\n",
              "      <th>2</th>\n",
              "      <td>2</td>\n",
              "      <td>2</td>\n",
              "      <td>idea democracy peril today least kashmiri invo...</td>\n",
              "      <td>-1</td>\n",
              "      <td>2</td>\n",
              "    </tr>\n",
              "    <tr>\n",
              "      <th>3</th>\n",
              "      <td>3</td>\n",
              "      <td>3</td>\n",
              "      <td>unity good uniformity rakhahari chatterji arti...</td>\n",
              "      <td>1</td>\n",
              "      <td>1</td>\n",
              "    </tr>\n",
              "    <tr>\n",
              "      <th>4</th>\n",
              "      <td>4</td>\n",
              "      <td>4</td>\n",
              "      <td>sub acha fabricated take youtube article</td>\n",
              "      <td>0</td>\n",
              "      <td>0</td>\n",
              "    </tr>\n",
              "  </tbody>\n",
              "</table>\n",
              "</div>"
            ],
            "text/plain": [
              "   Unnamed: 0  Unnamed: 0.1  ... sentiment  label\n",
              "0           0             0  ...         1      1\n",
              "1           1             1  ...         0      0\n",
              "2           2             2  ...        -1      2\n",
              "3           3             3  ...         1      1\n",
              "4           4             4  ...         0      0\n",
              "\n",
              "[5 rows x 5 columns]"
            ]
          },
          "metadata": {
            "tags": []
          },
          "execution_count": 44
        }
      ]
    },
    {
      "cell_type": "code",
      "metadata": {
        "id": "B33fHAx-4Xhs",
        "colab_type": "code",
        "colab": {}
      },
      "source": [
        "X = data\n",
        "Y = data.label"
      ],
      "execution_count": null,
      "outputs": []
    },
    {
      "cell_type": "markdown",
      "metadata": {
        "id": "EBQcfWR8VwNT",
        "colab_type": "text"
      },
      "source": [
        "Transforming the labels from 0, 1, 2 to vectors of shape [3]\n",
        "\n",
        "*   [1,0,0] : neutral\n",
        "*   [0,1,0] : positive\n",
        "*   [0,0,1] : negative\n",
        "\n",
        "\n"
      ]
    },
    {
      "cell_type": "code",
      "metadata": {
        "id": "f3tLSAOA4l3S",
        "colab_type": "code",
        "colab": {
          "base_uri": "https://localhost:8080/",
          "height": 139
        },
        "outputId": "b43960f0-a287-4dd4-ba75-bd93d9c6424f"
      },
      "source": [
        "from keras.utils import to_categorical\n",
        "Y = to_categorical(Y)\n",
        "Y"
      ],
      "execution_count": null,
      "outputs": [
        {
          "output_type": "execute_result",
          "data": {
            "text/plain": [
              "array([[0., 1., 0.],\n",
              "       [1., 0., 0.],\n",
              "       [0., 0., 1.],\n",
              "       ...,\n",
              "       [0., 0., 1.],\n",
              "       [0., 1., 0.],\n",
              "       [0., 1., 0.]], dtype=float32)"
            ]
          },
          "metadata": {
            "tags": []
          },
          "execution_count": 46
        }
      ]
    },
    {
      "cell_type": "code",
      "metadata": {
        "id": "2JoK_cX3WOIO",
        "colab_type": "code",
        "colab": {}
      },
      "source": [
        "Train test split"
      ],
      "execution_count": null,
      "outputs": []
    },
    {
      "cell_type": "code",
      "metadata": {
        "id": "IxlV1z6Q4sfS",
        "colab_type": "code",
        "colab": {
          "base_uri": "https://localhost:8080/",
          "height": 173
        },
        "outputId": "079a5d7c-31e7-4bb8-df9f-b3307e96c872"
      },
      "source": [
        "from sklearn.model_selection import train_test_split\n",
        "\n",
        "X_train, X_test, y_train, y_test = train_test_split(X, Y, test_size=0.5, random_state=42)\n",
        "print(\"TRAIN size:\", len(X_train))\n",
        "print(\"TEST size:\", len(X_test))\n",
        "y_train"
      ],
      "execution_count": null,
      "outputs": [
        {
          "output_type": "stream",
          "text": [
            "TRAIN size: 11090\n",
            "TEST size: 11091\n"
          ],
          "name": "stdout"
        },
        {
          "output_type": "execute_result",
          "data": {
            "text/plain": [
              "array([[1., 0., 0.],\n",
              "       [0., 1., 0.],\n",
              "       [1., 0., 0.],\n",
              "       ...,\n",
              "       [0., 0., 1.],\n",
              "       [0., 1., 0.],\n",
              "       [0., 1., 0.]], dtype=float32)"
            ]
          },
          "metadata": {
            "tags": []
          },
          "execution_count": 47
        }
      ]
    },
    {
      "cell_type": "markdown",
      "metadata": {
        "id": "Hd0A5VdGWSE_",
        "colab_type": "text"
      },
      "source": [
        "Preparing the word embeddings"
      ]
    },
    {
      "cell_type": "code",
      "metadata": {
        "id": "paS2S0ZE44fW",
        "colab_type": "code",
        "colab": {
          "base_uri": "https://localhost:8080/",
          "height": 34
        },
        "outputId": "e51a0a25-9964-44b5-fabd-1ffae02ba1ac"
      },
      "source": [
        "import gensim\n",
        "\n",
        "W2V_SIZE = 300\n",
        "W2V_WINDOW = 5\n",
        "W2V_EPOCH = 25\n",
        "W2V_MIN_COUNT = 5\n",
        "\n",
        "documents = [_text.split() for _text in X_train.tweet] \n",
        "w2v_model = gensim.models.word2vec.Word2Vec(size=W2V_SIZE, \n",
        "                                            window=W2V_WINDOW, \n",
        "                                            min_count=W2V_MIN_COUNT, \n",
        "                                            workers=8)\n",
        "w2v_model.build_vocab(documents)\n",
        "\n",
        "words = w2v_model.wv.vocab.keys()\n",
        "vocab_size = len(words)\n",
        "print(\"Vocab size\", vocab_size)"
      ],
      "execution_count": null,
      "outputs": [
        {
          "output_type": "stream",
          "text": [
            "Vocab size 4081\n"
          ],
          "name": "stdout"
        }
      ]
    },
    {
      "cell_type": "code",
      "metadata": {
        "id": "UotSYOLA48E7",
        "colab_type": "code",
        "colab": {
          "base_uri": "https://localhost:8080/",
          "height": 34
        },
        "outputId": "db7536a9-7d7f-409f-99ed-4dcdfb933974"
      },
      "source": [
        "w2v_model.train(documents, total_examples=len(documents), epochs=W2V_EPOCH)"
      ],
      "execution_count": null,
      "outputs": [
        {
          "output_type": "execute_result",
          "data": {
            "text/plain": [
              "(3246232, 4300600)"
            ]
          },
          "metadata": {
            "tags": []
          },
          "execution_count": 49
        }
      ]
    },
    {
      "cell_type": "markdown",
      "metadata": {
        "id": "2bFd2NR3W7Pm",
        "colab_type": "text"
      },
      "source": [
        "Tokenizing sequences"
      ]
    },
    {
      "cell_type": "code",
      "metadata": {
        "id": "g32Eatrk5C41",
        "colab_type": "code",
        "colab": {
          "base_uri": "https://localhost:8080/",
          "height": 34
        },
        "outputId": "2f109e89-085e-4126-e39b-3551f5f06eaf"
      },
      "source": [
        "from keras.preprocessing.text import Tokenizer\n",
        "from keras.preprocessing.sequence import pad_sequences\n",
        "\n",
        "tokenizer = Tokenizer()\n",
        "tokenizer.fit_on_texts(X_train.tweet)\n",
        "word_index = tokenizer.word_index\n",
        "vocab_size = len(word_index)\n",
        "print('Found %s unique tokens.' % len(word_index))"
      ],
      "execution_count": null,
      "outputs": [
        {
          "output_type": "stream",
          "text": [
            "Found 16772 unique tokens.\n"
          ],
          "name": "stdout"
        }
      ]
    },
    {
      "cell_type": "markdown",
      "metadata": {
        "id": "gluBQqqkW_mZ",
        "colab_type": "text"
      },
      "source": [
        "Padding the sequences to length 300"
      ]
    },
    {
      "cell_type": "code",
      "metadata": {
        "id": "OS99LhwM5L9_",
        "colab_type": "code",
        "colab": {
          "base_uri": "https://localhost:8080/",
          "height": 34
        },
        "outputId": "8f6f123b-d77e-4166-83fb-c26c5ac39dd6"
      },
      "source": [
        "MAX_SEQUENCE_LENGTH = 300\n",
        "EMBEDDING_DIM = 300\n",
        "X_train_padded = tokenizer.texts_to_sequences(X_train.tweet)\n",
        "X_train_padded = pad_sequences(X_train_padded, maxlen=MAX_SEQUENCE_LENGTH)\n",
        "X_test_padded = tokenizer.texts_to_sequences(X_test.tweet)\n",
        "X_test_padded = pad_sequences(X_test_padded, maxlen=MAX_SEQUENCE_LENGTH)\n",
        "print('Shape of data tensor:', X_train_padded.shape)"
      ],
      "execution_count": null,
      "outputs": [
        {
          "output_type": "stream",
          "text": [
            "Shape of data tensor: (11090, 300)\n"
          ],
          "name": "stdout"
        }
      ]
    },
    {
      "cell_type": "markdown",
      "metadata": {
        "id": "CiVKD7R7XDKV",
        "colab_type": "text"
      },
      "source": [
        "LSTM model"
      ]
    },
    {
      "cell_type": "code",
      "metadata": {
        "id": "pIoAbg-wJWs0",
        "colab_type": "code",
        "colab": {
          "base_uri": "https://localhost:8080/",
          "height": 399
        },
        "outputId": "c22de8f9-1e48-4d98-daca-95dd0a0e7131"
      },
      "source": [
        "from keras.layers import LSTM,Bidirectional\n",
        "max_features = 180000\n",
        "inputs = Input(shape=(300,), dtype=\"int32\")\n",
        "# Embed each integer in a 128-dimensional vector\n",
        "x = Embedding(max_features, 128)(inputs)\n",
        "# Add 2 bidirectional LSTMs\n",
        "x = LSTM(64)(x)\n",
        "#x = Bidirectional(LSTM(128, return_sequences=True))(x)\n",
        "#x = Bidirectional(LSTM(64))(x)\n",
        "# Add a classifier\n",
        "x=Dense(100)(x)\n",
        "x=Dropout(0.5)(x)\n",
        "#x = Flatten()(x)\n",
        "#x = Dense(128)(x)\n",
        "#x = Dropout(0.5)(x)\n",
        "x=LeakyReLU(alpha = 0.2)(x)\n",
        "outputs = Dense(3,activation='softmax')(x)\n",
        "model = Model(inputs, outputs)\n",
        "model.compile(loss='categorical_crossentropy',\n",
        "                  optimizer='rmsprop',\n",
        "                  metrics=['acc'])\n",
        "model.summary()"
      ],
      "execution_count": null,
      "outputs": [
        {
          "output_type": "stream",
          "text": [
            "Model: \"model_6\"\n",
            "_________________________________________________________________\n",
            "Layer (type)                 Output Shape              Param #   \n",
            "=================================================================\n",
            "input_6 (InputLayer)         (None, 300)               0         \n",
            "_________________________________________________________________\n",
            "embedding_8 (Embedding)      (None, 300, 128)          23040000  \n",
            "_________________________________________________________________\n",
            "lstm_8 (LSTM)                (None, 64)                49408     \n",
            "_________________________________________________________________\n",
            "dense_12 (Dense)             (None, 100)               6500      \n",
            "_________________________________________________________________\n",
            "dropout_8 (Dropout)          (None, 100)               0         \n",
            "_________________________________________________________________\n",
            "leaky_re_lu_6 (LeakyReLU)    (None, 100)               0         \n",
            "_________________________________________________________________\n",
            "dense_13 (Dense)             (None, 3)                 303       \n",
            "=================================================================\n",
            "Total params: 23,096,211\n",
            "Trainable params: 23,096,211\n",
            "Non-trainable params: 0\n",
            "_________________________________________________________________\n"
          ],
          "name": "stdout"
        }
      ]
    },
    {
      "cell_type": "code",
      "metadata": {
        "id": "514boEDxJioy",
        "colab_type": "code",
        "colab": {
          "base_uri": "https://localhost:8080/",
          "height": 141
        },
        "outputId": "ca0db794-cb86-41a7-d464-cb03cb2581e1"
      },
      "source": [
        "history = model.fit(X_train_padded, y_train, epochs = 2, batch_size=64)"
      ],
      "execution_count": null,
      "outputs": [
        {
          "output_type": "stream",
          "text": [
            "/usr/local/lib/python3.6/dist-packages/tensorflow/python/framework/indexed_slices.py:434: UserWarning: Converting sparse IndexedSlices to a dense Tensor of unknown shape. This may consume a large amount of memory.\n",
            "  \"Converting sparse IndexedSlices to a dense Tensor of unknown shape. \"\n"
          ],
          "name": "stderr"
        },
        {
          "output_type": "stream",
          "text": [
            "Epoch 1/2\n",
            "11090/11090 [==============================] - 97s 9ms/step - loss: 0.6238 - acc: 0.7395\n",
            "Epoch 2/2\n",
            "11090/11090 [==============================] - 98s 9ms/step - loss: 0.1619 - acc: 0.9453\n"
          ],
          "name": "stdout"
        }
      ]
    },
    {
      "cell_type": "markdown",
      "metadata": {
        "id": "hr4BiaOvXFvC",
        "colab_type": "text"
      },
      "source": [
        "CNN Model"
      ]
    },
    {
      "cell_type": "code",
      "metadata": {
        "id": "D49DwZWp5RLH",
        "colab_type": "code",
        "colab": {}
      },
      "source": [
        "from keras.preprocessing import sequence\n",
        "from keras.layers import Dense, Dropout, Activation,LeakyReLU\n",
        "from keras.layers import Embedding,BatchNormalization\n",
        "from keras.layers import Conv1D, GlobalMaxPooling1D,MaxPooling1D,LSTM\n",
        "from keras.datasets import imdb\n",
        "from keras.preprocessing.sequence import pad_sequences\n",
        "from keras.models import Model\n",
        "from keras.layers import Input,Flatten,concatenate\n",
        "from keras import metrics"
      ],
      "execution_count": null,
      "outputs": []
    },
    {
      "cell_type": "code",
      "metadata": {
        "id": "cCeSWyyA5Yjo",
        "colab_type": "code",
        "colab": {}
      },
      "source": [
        "max_features = 18000\n",
        "maxlen = 300\n",
        "batch_size = 64\n",
        "embedding_dims = 100\n",
        "filters = 64\n",
        "kernel_size = 1\n",
        "hidden_dims = 100\n",
        "epochs = 4\n",
        "\n",
        "main_input = Input(shape=(300,), dtype='int32', name='main_input')\n",
        "x=Embedding(max_features\n",
        "            ,embedding_dims\n",
        "            ,input_length=maxlen)(main_input)\n",
        "y=Dropout(0.5)(x)\n",
        "filtersize=[1,2]\n",
        "convs=[]\n",
        "for i in filtersize:\n",
        "    a=Conv1D(128\n",
        "             ,kernel_size=i\n",
        "             ,padding='valid'\n",
        "             ,activation='tanh'\n",
        "             ,strides=1)(y)\n",
        "    b=MaxPooling1D(pool_size=3)(a)\n",
        "    convs.append(b)\n",
        "\n",
        "merge=concatenate(convs, axis=1)\n",
        "\n",
        "conv=Conv1D(128\n",
        "            ,kernel_size=3\n",
        "            ,padding='valid'\n",
        "            ,activation='tanh'\n",
        "            ,strides=1)(merge)\n",
        "x=Activation('relu')(conv)\n",
        "#x=BatchNormalization()(x)\n",
        "x=GlobalMaxPooling1D()(x)\n",
        "\n",
        "\n",
        "x=Dense(100)(x)\n",
        "x=Dropout(0.5)(x)\n",
        "#x = Flatten()(x)\n",
        "#x = Dense(128)(x)\n",
        "#x = Dropout(0.5)(x)\n",
        "x=LeakyReLU(alpha = 0.2)(x)\n",
        "\n",
        "pred = Dense(3,activation='softmax')(x)\n",
        "\n",
        "model=Model(main_input,pred)\n",
        "model.compile(loss='categorical_crossentropy',\n",
        "                  optimizer='rmsprop',\n",
        "                  metrics=['acc'])"
      ],
      "execution_count": null,
      "outputs": []
    },
    {
      "cell_type": "code",
      "metadata": {
        "id": "xaOiuVTR5hTe",
        "colab_type": "code",
        "colab": {
          "base_uri": "https://localhost:8080/",
          "height": 330
        },
        "outputId": "ab1a6aff-1ae2-4b83-e99e-a3c83dc5a05f"
      },
      "source": [
        "history = model.fit(X_train_padded, y_train, epochs = 4, batch_size=64)"
      ],
      "execution_count": null,
      "outputs": [
        {
          "output_type": "error",
          "ename": "ValueError",
          "evalue": "ignored",
          "traceback": [
            "\u001b[0;31m---------------------------------------------------------------------------\u001b[0m",
            "\u001b[0;31mValueError\u001b[0m                                Traceback (most recent call last)",
            "\u001b[0;32m<ipython-input-41-d3f889925926>\u001b[0m in \u001b[0;36m<module>\u001b[0;34m()\u001b[0m\n\u001b[0;32m----> 1\u001b[0;31m \u001b[0mhistory\u001b[0m \u001b[0;34m=\u001b[0m \u001b[0mmodel\u001b[0m\u001b[0;34m.\u001b[0m\u001b[0mfit\u001b[0m\u001b[0;34m(\u001b[0m\u001b[0mX_train_padded\u001b[0m\u001b[0;34m,\u001b[0m \u001b[0my_train\u001b[0m\u001b[0;34m,\u001b[0m \u001b[0mepochs\u001b[0m \u001b[0;34m=\u001b[0m \u001b[0;36m4\u001b[0m\u001b[0;34m,\u001b[0m \u001b[0mbatch_size\u001b[0m\u001b[0;34m=\u001b[0m\u001b[0;36m64\u001b[0m\u001b[0;34m)\u001b[0m\u001b[0;34m\u001b[0m\u001b[0;34m\u001b[0m\u001b[0m\n\u001b[0m",
            "\u001b[0;32m/usr/local/lib/python3.6/dist-packages/keras/engine/training.py\u001b[0m in \u001b[0;36mfit\u001b[0;34m(self, x, y, batch_size, epochs, verbose, callbacks, validation_split, validation_data, shuffle, class_weight, sample_weight, initial_epoch, steps_per_epoch, validation_steps, validation_freq, max_queue_size, workers, use_multiprocessing, **kwargs)\u001b[0m\n\u001b[1;32m   1152\u001b[0m             \u001b[0msample_weight\u001b[0m\u001b[0;34m=\u001b[0m\u001b[0msample_weight\u001b[0m\u001b[0;34m,\u001b[0m\u001b[0;34m\u001b[0m\u001b[0;34m\u001b[0m\u001b[0m\n\u001b[1;32m   1153\u001b[0m             \u001b[0mclass_weight\u001b[0m\u001b[0;34m=\u001b[0m\u001b[0mclass_weight\u001b[0m\u001b[0;34m,\u001b[0m\u001b[0;34m\u001b[0m\u001b[0;34m\u001b[0m\u001b[0m\n\u001b[0;32m-> 1154\u001b[0;31m             batch_size=batch_size)\n\u001b[0m\u001b[1;32m   1155\u001b[0m \u001b[0;34m\u001b[0m\u001b[0m\n\u001b[1;32m   1156\u001b[0m         \u001b[0;31m# Prepare validation data.\u001b[0m\u001b[0;34m\u001b[0m\u001b[0;34m\u001b[0m\u001b[0;34m\u001b[0m\u001b[0m\n",
            "\u001b[0;32m/usr/local/lib/python3.6/dist-packages/keras/engine/training.py\u001b[0m in \u001b[0;36m_standardize_user_data\u001b[0;34m(self, x, y, sample_weight, class_weight, check_array_lengths, batch_size)\u001b[0m\n\u001b[1;32m    619\u001b[0m                 \u001b[0mfeed_output_shapes\u001b[0m\u001b[0;34m,\u001b[0m\u001b[0;34m\u001b[0m\u001b[0;34m\u001b[0m\u001b[0m\n\u001b[1;32m    620\u001b[0m                 \u001b[0mcheck_batch_axis\u001b[0m\u001b[0;34m=\u001b[0m\u001b[0;32mFalse\u001b[0m\u001b[0;34m,\u001b[0m  \u001b[0;31m# Don't enforce the batch size.\u001b[0m\u001b[0;34m\u001b[0m\u001b[0;34m\u001b[0m\u001b[0m\n\u001b[0;32m--> 621\u001b[0;31m                 exception_prefix='target')\n\u001b[0m\u001b[1;32m    622\u001b[0m \u001b[0;34m\u001b[0m\u001b[0m\n\u001b[1;32m    623\u001b[0m             \u001b[0;31m# Generate sample-wise weight values given the `sample_weight` and\u001b[0m\u001b[0;34m\u001b[0m\u001b[0;34m\u001b[0m\u001b[0;34m\u001b[0m\u001b[0m\n",
            "\u001b[0;32m/usr/local/lib/python3.6/dist-packages/keras/engine/training_utils.py\u001b[0m in \u001b[0;36mstandardize_input_data\u001b[0;34m(data, names, shapes, check_batch_axis, exception_prefix)\u001b[0m\n\u001b[1;32m    143\u001b[0m                             \u001b[0;34m': expected '\u001b[0m \u001b[0;34m+\u001b[0m \u001b[0mnames\u001b[0m\u001b[0;34m[\u001b[0m\u001b[0mi\u001b[0m\u001b[0;34m]\u001b[0m \u001b[0;34m+\u001b[0m \u001b[0;34m' to have shape '\u001b[0m \u001b[0;34m+\u001b[0m\u001b[0;34m\u001b[0m\u001b[0;34m\u001b[0m\u001b[0m\n\u001b[1;32m    144\u001b[0m                             \u001b[0mstr\u001b[0m\u001b[0;34m(\u001b[0m\u001b[0mshape\u001b[0m\u001b[0;34m)\u001b[0m \u001b[0;34m+\u001b[0m \u001b[0;34m' but got array with shape '\u001b[0m \u001b[0;34m+\u001b[0m\u001b[0;34m\u001b[0m\u001b[0;34m\u001b[0m\u001b[0m\n\u001b[0;32m--> 145\u001b[0;31m                             str(data_shape))\n\u001b[0m\u001b[1;32m    146\u001b[0m     \u001b[0;32mreturn\u001b[0m \u001b[0mdata\u001b[0m\u001b[0;34m\u001b[0m\u001b[0;34m\u001b[0m\u001b[0m\n\u001b[1;32m    147\u001b[0m \u001b[0;34m\u001b[0m\u001b[0m\n",
            "\u001b[0;31mValueError\u001b[0m: Error when checking target: expected dense_8 to have shape (3,) but got array with shape (2,)"
          ]
        }
      ]
    },
    {
      "cell_type": "markdown",
      "metadata": {
        "id": "ifEMg0isXVv0",
        "colab_type": "text"
      },
      "source": [
        "Getting predictions of any model into preds list\n",
        "This list will contain predictions as probabilities so we need to take the maximum and flatten it to make the confusion matrix"
      ]
    },
    {
      "cell_type": "code",
      "metadata": {
        "id": "LjXSiwOQ8IPh",
        "colab_type": "code",
        "colab": {
          "base_uri": "https://localhost:8080/",
          "height": 139
        },
        "outputId": "6e38b11a-d069-4533-a70e-84ea75b87bdd"
      },
      "source": [
        "preds = model.predict(X_test_padded)\n",
        "preds"
      ],
      "execution_count": null,
      "outputs": [
        {
          "output_type": "execute_result",
          "data": {
            "text/plain": [
              "array([[1.3142969e-05, 3.6906920e-06, 9.9998319e-01],\n",
              "       [1.2402628e-05, 9.9995947e-01, 2.8138144e-05],\n",
              "       [1.2273316e-05, 9.9990988e-01, 7.7783239e-05],\n",
              "       ...,\n",
              "       [1.0394091e-03, 9.9776900e-01, 1.1915889e-03],\n",
              "       [9.9997818e-01, 1.8688455e-05, 3.1031495e-06],\n",
              "       [9.9869943e-01, 9.2618674e-04, 3.7432782e-04]], dtype=float32)"
            ]
          },
          "metadata": {
            "tags": []
          },
          "execution_count": 54
        }
      ]
    },
    {
      "cell_type": "markdown",
      "metadata": {
        "id": "2Tx5u_hfXos2",
        "colab_type": "text"
      },
      "source": [
        "Loop to set max probability as 1 and rest as 0"
      ]
    },
    {
      "cell_type": "code",
      "metadata": {
        "id": "TX39_eaV8Sbf",
        "colab_type": "code",
        "colab": {
          "base_uri": "https://localhost:8080/",
          "height": 139
        },
        "outputId": "7cabef9d-4e48-420b-a1f1-df603d909ddd"
      },
      "source": [
        "for i in range(len(preds)):\n",
        "  mx = 0\n",
        "  ind = -1\n",
        "  for j in range(3):\n",
        "    if preds[i][j] > mx:\n",
        "      mx = preds[i][j]\n",
        "      ind = j\n",
        "  preds[i][ind] = 1.0\n",
        "  preds[i][(ind+1)%3] = 0.0\n",
        "  preds[i][(ind+2)%3] = 0.0\n",
        "\n",
        "preds"
      ],
      "execution_count": null,
      "outputs": [
        {
          "output_type": "execute_result",
          "data": {
            "text/plain": [
              "array([[0., 0., 1.],\n",
              "       [0., 1., 0.],\n",
              "       [0., 1., 0.],\n",
              "       ...,\n",
              "       [0., 1., 0.],\n",
              "       [1., 0., 0.],\n",
              "       [1., 0., 0.]], dtype=float32)"
            ]
          },
          "metadata": {
            "tags": []
          },
          "execution_count": 55
        }
      ]
    },
    {
      "cell_type": "markdown",
      "metadata": {
        "id": "aecOIWvpXxpd",
        "colab_type": "text"
      },
      "source": [
        "Mapping the [3,] vector to a 1D list"
      ]
    },
    {
      "cell_type": "code",
      "metadata": {
        "id": "BHRKOsUa8V01",
        "colab_type": "code",
        "colab": {
          "base_uri": "https://localhost:8080/",
          "height": 72
        },
        "outputId": "4be1a42f-b6bb-4f3b-cfcd-e3e109184654"
      },
      "source": [
        "y_test_1d = []\n",
        "for p in y_test:\n",
        "  for j in range(3):\n",
        "    if p[j] == 1.0:\n",
        "      y_test_1d.append(j)\n",
        "\n",
        "preds_1d = []\n",
        "for p in preds:\n",
        "  for j in range(3):\n",
        "    if p[j] == 1.0:\n",
        "      preds_1d.append(j)\n",
        "\n",
        "print(y_test_1d)\n",
        "print(preds_1d)"
      ],
      "execution_count": null,
      "outputs": [
        {
          "output_type": "stream",
          "text": [
            "[2, 1, 1, 2, 0, 2, 0, 1, 1, 0, 1, 0, 0, 0, 0, 0, 0, 0, 1, 0, 1, 0, 1, 0, 0, 1, 1, 1, 0, 2, 0, 1, 2, 1, 1, 1, 0, 1, 1, 2, 1, 1, 1, 1, 2, 0, 1, 1, 1, 2, 1, 2, 0, 1, 2, 1, 2, 1, 2, 1, 0, 1, 1, 2, 1, 0, 0, 0, 0, 2, 0, 2, 0, 1, 1, 1, 2, 1, 1, 1, 0, 1, 0, 2, 0, 0, 1, 1, 2, 2, 1, 0, 2, 1, 0, 0, 1, 1, 1, 0, 0, 0, 1, 2, 0, 2, 0, 1, 2, 0, 1, 1, 1, 0, 1, 0, 2, 0, 0, 0, 2, 2, 2, 0, 2, 1, 0, 2, 0, 1, 2, 0, 0, 0, 2, 1, 1, 0, 1, 1, 1, 2, 0, 0, 0, 0, 0, 1, 1, 1, 0, 1, 1, 2, 1, 1, 0, 1, 1, 1, 0, 0, 1, 0, 0, 1, 1, 0, 1, 1, 0, 0, 1, 1, 1, 2, 1, 0, 1, 1, 0, 2, 0, 1, 2, 1, 0, 0, 2, 2, 0, 2, 0, 1, 1, 2, 0, 2, 0, 1, 1, 1, 2, 0, 0, 1, 0, 1, 0, 1, 1, 1, 0, 0, 2, 2, 0, 1, 2, 0, 2, 1, 1, 0, 1, 1, 1, 0, 1, 1, 1, 1, 1, 2, 0, 0, 0, 0, 0, 1, 1, 0, 2, 1, 2, 2, 2, 1, 1, 0, 1, 1, 1, 0, 1, 2, 2, 2, 1, 1, 1, 1, 1, 1, 1, 2, 1, 2, 0, 2, 2, 2, 0, 0, 1, 1, 1, 1, 1, 0, 1, 2, 2, 0, 0, 1, 1, 1, 2, 1, 2, 2, 1, 1, 0, 1, 0, 1, 0, 0, 2, 2, 1, 2, 0, 2, 1, 1, 1, 0, 0, 0, 1, 2, 0, 1, 0, 1, 0, 1, 1, 0, 2, 2, 1, 0, 0, 2, 0, 1, 1, 0, 0, 1, 1, 0, 1, 2, 2, 0, 0, 1, 2, 2, 0, 1, 2, 0, 1, 1, 1, 0, 0, 1, 0, 0, 1, 1, 1, 1, 0, 1, 0, 0, 0, 2, 2, 2, 1, 1, 1, 1, 0, 2, 1, 1, 2, 1, 2, 0, 1, 0, 0, 2, 1, 1, 2, 1, 1, 0, 1, 0, 1, 0, 2, 1, 0, 1, 0, 2, 1, 0, 0, 1, 1, 1, 2, 1, 1, 0, 1, 0, 1, 0, 1, 1, 0, 2, 0, 2, 0, 0, 1, 2, 2, 0, 0, 2, 2, 1, 2, 1, 1, 1, 0, 1, 1, 0, 1, 0, 1, 0, 1, 1, 0, 2, 2, 0, 2, 2, 0, 2, 0, 1, 1, 1, 1, 2, 0, 2, 1, 1, 2, 2, 1, 1, 1, 1, 1, 1, 1, 1, 2, 1, 2, 0, 0, 2, 1, 1, 0, 1, 0, 2, 1, 0, 0, 2, 1, 0, 1, 1, 1, 2, 1, 0, 1, 2, 1, 0, 2, 0, 2, 2, 2, 2, 1, 1, 1, 2, 1, 1, 0, 1, 2, 0, 2, 1, 1, 0, 1, 1, 1, 1, 2, 0, 2, 2, 2, 1, 1, 0, 1, 2, 2, 0, 0, 1, 2, 2, 0, 2, 1, 1, 1, 1, 1, 0, 0, 2, 1, 2, 2, 0, 1, 1, 1, 1, 1, 1, 0, 0, 0, 1, 2, 0, 1, 0, 1, 1, 2, 0, 1, 2, 2, 1, 1, 1, 1, 1, 0, 1, 2, 0, 1, 1, 1, 2, 1, 2, 0, 2, 2, 1, 1, 1, 2, 1, 2, 1, 0, 2, 0, 0, 2, 1, 1, 2, 1, 0, 1, 1, 0, 2, 0, 0, 2, 1, 1, 0, 1, 1, 2, 1, 0, 0, 1, 1, 1, 0, 0, 1, 1, 2, 2, 1, 1, 0, 1, 1, 1, 1, 1, 1, 1, 1, 1, 1, 0, 0, 1, 0, 1, 0, 2, 2, 2, 2, 1, 1, 1, 1, 1, 2, 1, 1, 1, 2, 0, 1, 1, 1, 0, 1, 1, 1, 0, 0, 1, 2, 2, 0, 0, 1, 2, 0, 1, 2, 1, 0, 1, 1, 0, 1, 1, 1, 1, 1, 2, 1, 2, 0, 1, 2, 1, 1, 1, 1, 1, 0, 1, 1, 0, 0, 1, 2, 0, 1, 0, 0, 1, 1, 0, 2, 1, 1, 1, 0, 2, 2, 0, 2, 0, 0, 1, 1, 0, 1, 1, 2, 2, 1, 0, 2, 1, 2, 1, 2, 1, 0, 2, 1, 1, 1, 0, 1, 0, 1, 1, 0, 1, 1, 1, 1, 2, 0, 1, 1, 1, 0, 1, 0, 1, 2, 1, 2, 1, 0, 0, 0, 1, 2, 1, 2, 1, 2, 2, 1, 2, 0, 0, 1, 1, 0, 0, 2, 2, 1, 0, 1, 2, 2, 1, 2, 0, 1, 0, 0, 0, 0, 0, 2, 1, 0, 1, 0, 2, 1, 1, 1, 2, 1, 2, 1, 1, 0, 1, 0, 1, 1, 1, 1, 0, 0, 1, 2, 2, 1, 1, 0, 0, 0, 0, 0, 2, 0, 1, 1, 1, 0, 1, 1, 1, 1, 0, 1, 1, 0, 2, 1, 1, 1, 1, 0, 0, 2, 1, 2, 2, 1, 1, 1, 0, 0, 2, 0, 2, 1, 0, 1, 1, 1, 0, 1, 2, 1, 1, 2, 1, 0, 0, 2, 2, 1, 2, 0, 0, 1, 0, 0, 2, 2, 1, 0, 2, 0, 1, 1, 1, 0, 1, 1, 2, 1, 1, 2, 2, 0, 1, 1, 0, 1, 1, 2, 0, 0, 1, 0, 2, 0, 0, 1, 2, 2, 1, 1, 1, 2, 2, 1, 0, 0, 2, 2, 0, 2, 1, 2, 2, 1, 2, 2, 1, 1, 1, 1, 1, 1, 1, 1, 0, 0, 0, 0, 2, 2, 0, 2, 0, 1, 0, 2, 0, 1, 1, 1, 1, 1, 1, 1, 1, 2, 2, 1, 1, 0, 1, 1, 1, 2, 1, 1, 0, 0, 1, 1, 2, 2, 1, 0, 1, 2, 1, 0, 1, 1, 1, 0, 2, 2, 0, 2, 1, 0, 0, 1, 0, 1, 1, 1, 0, 1, 1, 1, 0, 2, 2, 1, 0, 1, 2, 1, 1, 1, 0, 1, 1, 2, 1, 1, 0, 1, 0, 0, 1, 1, 0, 1, 0, 2, 0, 0, 1, 0, 1, 1, 1, 1, 1, 1, 0, 0, 0, 0, 0, 1, 0, 1, 2, 0, 0, 2, 0, 0, 0, 0, 2, 2, 1, 0, 0, 1, 1, 2, 1, 1, 2, 1, 1, 0, 2, 0, 0, 1, 0, 1, 1, 0, 1, 0, 1, 2, 1, 2, 0, 1, 0, 1, 2, 1, 1, 1, 2, 0, 2, 1, 0, 0, 0, 0, 1, 1, 2, 2, 0, 1, 2, 0, 2, 1, 0, 1, 0, 2, 0, 2, 1, 0, 0, 1, 2, 1, 2, 1, 1, 2, 1, 1, 2, 0, 1, 0, 1, 2, 1, 1, 0, 1, 2, 1, 1, 2, 0, 0, 1, 0, 1, 1, 1, 1, 1, 1, 2, 1, 0, 0, 2, 0, 1, 1, 2, 0, 1, 0, 2, 1, 1, 0, 0, 1, 0, 2, 0, 2, 1, 1, 2, 2, 0, 1, 0, 1, 0, 0, 1, 0, 1, 0, 2, 2, 1, 1, 1, 1, 1, 1, 1, 2, 1, 1, 1, 1, 0, 1, 2, 1, 2, 2, 1, 1, 1, 2, 0, 0, 2, 1, 1, 0, 1, 1, 1, 0, 2, 2, 1, 1, 0, 2, 0, 1, 0, 2, 1, 1, 1, 2, 1, 0, 1, 0, 0, 1, 1, 1, 0, 1, 0, 2, 1, 0, 1, 1, 1, 1, 0, 0, 1, 0, 2, 1, 2, 2, 1, 1, 0, 0, 2, 1, 2, 0, 1, 0, 1, 1, 2, 2, 0, 2, 1, 1, 1, 2, 2, 1, 2, 1, 1, 2, 0, 1, 2, 1, 0, 1, 1, 0, 0, 0, 1, 1, 1, 0, 1, 1, 0, 0, 1, 1, 1, 0, 2, 1, 2, 0, 2, 2, 0, 1, 1, 1, 0, 0, 1, 0, 0, 0, 1, 1, 1, 2, 2, 0, 0, 0, 0, 1, 2, 0, 0, 0, 0, 0, 1, 2, 0, 1, 1, 0, 1, 0, 1, 1, 1, 0, 0, 0, 1, 2, 0, 0, 2, 1, 2, 1, 0, 0, 1, 0, 2, 1, 1, 1, 0, 1, 0, 0, 1, 0, 2, 2, 0, 0, 1, 0, 0, 2, 0, 2, 1, 2, 0, 1, 1, 0, 2, 1, 0, 2, 0, 1, 1, 2, 2, 2, 2, 2, 1, 1, 1, 1, 2, 1, 2, 2, 1, 1, 1, 2, 1, 2, 2, 1, 1, 0, 2, 1, 0, 0, 1, 0, 2, 1, 0, 1, 1, 0, 1, 1, 0, 0, 1, 0, 1, 1, 1, 1, 1, 1, 0, 0, 0, 1, 0, 0, 0, 0, 2, 2, 0, 1, 1, 0, 1, 2, 2, 1, 0, 0, 2, 1, 2, 1, 0, 0, 2, 2, 0, 1, 0, 0, 1, 1, 1, 1, 2, 2, 1, 1, 1, 2, 2, 1, 2, 0, 1, 2, 2, 1, 1, 1, 1, 0, 2, 0, 1, 1, 1, 1, 0, 2, 0, 1, 2, 0, 1, 0, 2, 0, 2, 2, 1, 0, 1, 1, 0, 0, 2, 1, 2, 1, 1, 1, 1, 2, 1, 2, 1, 1, 1, 1, 1, 1, 0, 0, 2, 0, 0, 0, 1, 2, 0, 1, 1, 2, 2, 1, 1, 1, 2, 0, 1, 1, 1, 0, 1, 1, 1, 1, 1, 1, 1, 1, 0, 1, 2, 1, 0, 1, 0, 2, 1, 1, 2, 0, 2, 0, 2, 0, 0, 1, 1, 1, 2, 2, 1, 0, 1, 1, 2, 2, 2, 1, 0, 1, 0, 1, 1, 0, 1, 0, 2, 2, 1, 2, 1, 1, 2, 1, 1, 1, 0, 1, 1, 0, 1, 1, 0, 1, 1, 1, 1, 1, 1, 1, 1, 1, 1, 2, 1, 0, 1, 1, 2, 1, 2, 0, 1, 1, 1, 1, 1, 1, 0, 0, 1, 0, 0, 1, 1, 0, 1, 2, 2, 0, 1, 1, 2, 0, 0, 1, 1, 2, 1, 0, 1, 1, 1, 1, 0, 0, 1, 0, 1, 1, 1, 1, 2, 0, 0, 1, 1, 1, 1, 1, 2, 1, 2, 1, 2, 2, 0, 0, 1, 0, 1, 1, 0, 2, 0, 1, 1, 2, 1, 2, 0, 1, 1, 0, 1, 1, 1, 1, 1, 1, 0, 2, 1, 1, 2, 0, 1, 2, 1, 1, 1, 0, 1, 1, 2, 1, 2, 2, 0, 1, 1, 2, 0, 0, 1, 2, 1, 1, 0, 1, 1, 0, 2, 1, 2, 2, 2, 1, 1, 0, 1, 0, 0, 0, 1, 2, 1, 0, 1, 0, 0, 1, 2, 1, 1, 1, 0, 0, 2, 0, 2, 0, 0, 1, 1, 0, 1, 1, 1, 1, 2, 1, 0, 0, 2, 0, 1, 1, 2, 1, 1, 2, 2, 1, 1, 1, 0, 1, 1, 1, 1, 2, 2, 1, 1, 2, 1, 0, 1, 2, 2, 1, 2, 2, 0, 1, 1, 2, 0, 2, 1, 0, 0, 1, 2, 2, 2, 1, 0, 1, 1, 1, 1, 1, 0, 1, 1, 0, 2, 0, 2, 2, 0, 0, 1, 1, 1, 2, 2, 1, 1, 1, 2, 1, 2, 0, 1, 1, 0, 2, 1, 1, 1, 1, 1, 1, 0, 1, 1, 1, 1, 1, 2, 1, 2, 2, 1, 2, 0, 2, 0, 1, 0, 1, 0, 0, 2, 1, 0, 1, 2, 1, 1, 0, 1, 2, 1, 0, 0, 1, 0, 1, 1, 0, 2, 2, 0, 2, 1, 2, 0, 0, 1, 2, 1, 1, 2, 2, 2, 1, 2, 2, 1, 1, 2, 1, 0, 1, 1, 1, 0, 2, 1, 0, 1, 2, 2, 1, 0, 2, 2, 1, 1, 1, 1, 1, 1, 2, 1, 1, 2, 2, 1, 1, 1, 0, 1, 1, 1, 1, 1, 2, 2, 2, 1, 1, 0, 1, 2, 1, 0, 1, 1, 2, 2, 2, 1, 1, 1, 1, 0, 0, 0, 1, 1, 2, 1, 1, 0, 1, 1, 1, 1, 1, 2, 0, 0, 1, 0, 2, 0, 2, 2, 0, 1, 0, 1, 1, 0, 1, 2, 1, 0, 0, 1, 0, 1, 1, 0, 0, 2, 0, 0, 2, 0, 1, 1, 0, 1, 1, 0, 1, 2, 1, 1, 1, 1, 1, 1, 1, 1, 1, 1, 0, 1, 0, 1, 0, 0, 2, 0, 1, 1, 1, 1, 1, 0, 0, 1, 2, 2, 2, 1, 1, 1, 1, 0, 2, 2, 2, 1, 1, 1, 0, 1, 0, 2, 1, 1, 1, 0, 0, 0, 0, 1, 2, 0, 1, 0, 0, 1, 1, 1, 0, 0, 1, 2, 0, 1, 0, 1, 1, 1, 1, 1, 1, 1, 0, 2, 0, 1, 0, 0, 2, 1, 1, 0, 2, 1, 1, 2, 1, 1, 0, 1, 2, 2, 1, 1, 0, 1, 1, 0, 0, 1, 0, 0, 0, 1, 0, 2, 1, 2, 1, 0, 0, 0, 1, 1, 0, 1, 1, 0, 1, 1, 1, 1, 0, 1, 0, 1, 0, 2, 1, 1, 1, 0, 0, 0, 2, 1, 1, 1, 1, 1, 1, 1, 0, 2, 1, 2, 0, 0, 1, 1, 2, 0, 0, 1, 1, 1, 0, 1, 0, 1, 1, 1, 0, 1, 0, 2, 1, 1, 1, 0, 1, 1, 1, 2, 1, 1, 1, 1, 0, 0, 2, 2, 1, 0, 2, 1, 0, 0, 1, 2, 1, 2, 1, 1, 1, 1, 1, 2, 0, 0, 1, 1, 1, 1, 0, 1, 2, 1, 1, 1, 2, 1, 1, 1, 0, 1, 1, 1, 0, 1, 2, 1, 1, 0, 1, 0, 2, 1, 0, 1, 1, 1, 1, 1, 1, 1, 2, 1, 1, 1, 1, 2, 1, 0, 1, 2, 1, 1, 0, 0, 1, 1, 2, 0, 1, 1, 1, 2, 2, 1, 0, 2, 0, 1, 0, 0, 1, 1, 1, 0, 1, 1, 1, 2, 2, 2, 1, 0, 1, 1, 2, 1, 1, 1, 1, 1, 2, 1, 1, 1, 1, 2, 1, 0, 2, 1, 2, 1, 1, 0, 1, 0, 0, 1, 1, 2, 1, 2, 0, 0, 0, 0, 1, 1, 2, 1, 0, 1, 2, 1, 1, 1, 1, 2, 1, 0, 2, 2, 0, 0, 1, 1, 1, 1, 0, 1, 1, 0, 2, 2, 0, 1, 1, 0, 1, 1, 1, 2, 1, 2, 1, 1, 2, 2, 0, 1, 1, 2, 2, 0, 1, 2, 1, 1, 2, 1, 1, 1, 0, 0, 2, 0, 1, 1, 1, 1, 2, 1, 1, 1, 2, 0, 1, 1, 2, 1, 2, 2, 1, 2, 2, 1, 1, 1, 2, 1, 0, 1, 1, 0, 0, 2, 2, 0, 1, 1, 1, 0, 0, 1, 0, 1, 1, 0, 1, 1, 1, 1, 1, 0, 1, 2, 0, 1, 0, 2, 0, 1, 0, 2, 1, 1, 1, 0, 1, 1, 0, 1, 1, 1, 1, 0, 0, 0, 0, 0, 2, 0, 2, 1, 0, 0, 0, 1, 0, 0, 1, 0, 2, 1, 1, 1, 2, 0, 2, 0, 0, 0, 0, 2, 1, 2, 1, 1, 0, 2, 2, 1, 1, 2, 0, 0, 0, 0, 2, 2, 2, 1, 0, 1, 1, 1, 0, 0, 0, 0, 0, 1, 2, 1, 1, 2, 0, 0, 0, 0, 2, 2, 1, 0, 1, 2, 0, 1, 0, 1, 2, 0, 1, 2, 2, 2, 0, 0, 1, 1, 0, 1, 2, 2, 1, 1, 1, 1, 2, 1, 1, 0, 0, 1, 0, 1, 1, 1, 1, 2, 1, 2, 1, 1, 1, 1, 1, 1, 0, 1, 0, 1, 2, 1, 1, 0, 0, 2, 2, 0, 1, 2, 0, 1, 0, 1, 0, 1, 1, 1, 0, 0, 0, 0, 1, 1, 0, 1, 2, 2, 0, 1, 2, 0, 1, 2, 1, 2, 1, 1, 1, 1, 1, 2, 0, 0, 1, 2, 0, 1, 0, 0, 1, 0, 0, 0, 1, 0, 0, 1, 2, 2, 2, 1, 1, 0, 1, 1, 2, 1, 2, 0, 1, 1, 0, 0, 1, 1, 1, 1, 1, 1, 0, 1, 1, 1, 1, 2, 2, 1, 1, 1, 0, 0, 1, 2, 0, 2, 0, 1, 1, 1, 1, 1, 1, 2, 1, 2, 0, 1, 1, 1, 1, 0, 1, 1, 0, 1, 1, 1, 2, 0, 1, 0, 1, 1, 2, 2, 1, 2, 1, 1, 1, 0, 1, 2, 2, 1, 2, 0, 1, 0, 1, 2, 1, 2, 1, 0, 1, 2, 1, 0, 0, 2, 0, 0, 1, 1, 1, 1, 2, 1, 1, 1, 1, 1, 0, 1, 1, 2, 1, 1, 1, 1, 1, 0, 1, 0, 1, 0, 1, 0, 0, 1, 1, 0, 2, 1, 2, 0, 0, 1, 0, 2, 0, 1, 2, 1, 2, 1, 1, 1, 2, 1, 2, 0, 1, 0, 0, 1, 0, 0, 0, 0, 0, 2, 1, 1, 1, 2, 0, 0, 0, 0, 0, 0, 0, 1, 1, 0, 1, 0, 1, 1, 2, 2, 0, 1, 2, 0, 2, 0, 1, 1, 1, 1, 0, 1, 1, 0, 2, 1, 1, 1, 0, 0, 0, 1, 1, 1, 1, 1, 1, 0, 0, 1, 1, 1, 1, 1, 1, 0, 1, 1, 1, 0, 0, 1, 0, 1, 0, 1, 2, 2, 0, 0, 0, 2, 1, 1, 2, 2, 1, 1, 1, 2, 1, 2, 0, 1, 1, 0, 2, 0, 0, 2, 0, 2, 1, 1, 1, 1, 2, 2, 1, 1, 2, 0, 1, 1, 2, 1, 0, 2, 0, 2, 0, 1, 2, 1, 1, 1, 2, 2, 1, 1, 2, 1, 1, 0, 2, 1, 2, 1, 1, 0, 2, 2, 0, 1, 0, 0, 1, 0, 2, 0, 2, 0, 1, 0, 1, 1, 2, 1, 1, 1, 1, 0, 1, 0, 1, 2, 0, 1, 0, 1, 1, 0, 1, 2, 1, 2, 0, 0, 2, 1, 0, 2, 0, 1, 1, 1, 0, 1, 1, 1, 2, 1, 1, 2, 2, 1, 1, 1, 1, 1, 0, 0, 1, 1, 0, 2, 0, 0, 0, 0, 0, 1, 1, 1, 1, 2, 1, 0, 0, 1, 1, 1, 1, 1, 1, 1, 0, 1, 0, 1, 1, 2, 1, 1, 1, 0, 1, 0, 1, 0, 1, 0, 0, 1, 1, 1, 0, 2, 1, 1, 1, 0, 0, 0, 2, 0, 2, 1, 2, 0, 1, 0, 1, 1, 1, 0, 2, 0, 2, 1, 0, 1, 1, 2, 1, 0, 1, 1, 1, 0, 1, 0, 1, 1, 1, 1, 2, 1, 0, 0, 0, 0, 0, 0, 0, 1, 1, 0, 1, 1, 1, 1, 1, 0, 0, 1, 1, 1, 1, 0, 2, 0, 2, 1, 1, 1, 0, 1, 2, 1, 1, 1, 1, 0, 1, 1, 1, 1, 1, 1, 2, 0, 0, 1, 1, 1, 0, 1, 2, 0, 0, 0, 1, 1, 1, 2, 0, 1, 1, 0, 2, 1, 1, 0, 1, 1, 2, 2, 1, 0, 2, 1, 0, 1, 0, 1, 2, 0, 1, 0, 1, 1, 1, 1, 1, 1, 1, 1, 1, 0, 1, 1, 1, 0, 1, 0, 2, 1, 1, 2, 1, 2, 2, 0, 2, 1, 1, 1, 1, 0, 2, 0, 0, 1, 1, 0, 2, 1, 1, 2, 0, 2, 2, 1, 1, 2, 2, 1, 2, 2, 1, 2, 1, 1, 0, 0, 0, 1, 0, 1, 1, 0, 0, 0, 0, 1, 0, 0, 0, 2, 0, 1, 0, 0, 2, 1, 2, 1, 1, 1, 1, 0, 1, 0, 1, 1, 1, 2, 0, 1, 0, 1, 0, 0, 0, 2, 2, 2, 0, 2, 2, 0, 1, 2, 1, 2, 1, 2, 2, 0, 1, 0, 2, 2, 2, 2, 1, 0, 0, 0, 0, 2, 0, 2, 2, 1, 1, 2, 2, 1, 1, 0, 0, 2, 0, 1, 0, 2, 1, 2, 2, 1, 1, 1, 2, 1, 2, 2, 1, 0, 1, 1, 1, 1, 2, 2, 1, 1, 1, 2, 1, 0, 2, 2, 0, 2, 1, 0, 1, 0, 1, 0, 0, 1, 0, 1, 1, 2, 1, 2, 1, 2, 2, 0, 1, 1, 2, 2, 2, 0, 1, 1, 1, 1, 2, 1, 0, 2, 2, 1, 1, 0, 1, 1, 0, 2, 1, 1, 2, 1, 1, 2, 2, 1, 1, 0, 1, 0, 0, 0, 0, 0, 1, 0, 2, 1, 2, 0, 2, 0, 2, 2, 0, 2, 0, 1, 1, 0, 1, 0, 1, 1, 2, 1, 0, 1, 2, 0, 1, 1, 1, 1, 2, 2, 2, 1, 0, 0, 0, 1, 1, 0, 2, 1, 2, 1, 0, 1, 1, 2, 2, 1, 2, 1, 0, 2, 0, 2, 0, 2, 2, 2, 2, 0, 0, 2, 1, 1, 0, 2, 1, 1, 1, 1, 1, 1, 1, 0, 0, 1, 1, 0, 0, 2, 1, 0, 1, 2, 0, 1, 0, 1, 2, 1, 1, 1, 0, 1, 1, 0, 0, 1, 1, 1, 2, 0, 0, 1, 1, 1, 1, 2, 0, 0, 1, 1, 1, 1, 1, 1, 2, 1, 2, 1, 2, 1, 2, 2, 1, 0, 0, 1, 1, 1, 2, 1, 1, 1, 1, 1, 0, 1, 1, 1, 1, 1, 0, 0, 1, 2, 1, 1, 1, 1, 1, 1, 1, 1, 0, 0, 1, 2, 2, 0, 0, 0, 2, 1, 1, 1, 1, 2, 2, 1, 1, 0, 1, 1, 0, 2, 1, 0, 2, 1, 1, 0, 1, 2, 0, 1, 2, 0, 2, 1, 0, 0, 1, 1, 1, 2, 1, 1, 1, 0, 0, 1, 1, 0, 0, 1, 1, 1, 0, 0, 1, 1, 1, 1, 2, 0, 2, 1, 2, 1, 2, 1, 1, 0, 1, 1, 0, 0, 0, 0, 0, 2, 1, 1, 1, 0, 1, 1, 2, 1, 1, 0, 1, 0, 0, 1, 1, 1, 1, 0, 1, 1, 2, 1, 0, 2, 1, 0, 1, 0, 1, 2, 0, 0, 0, 1, 1, 1, 0, 2, 1, 0, 2, 1, 0, 0, 1, 2, 0, 1, 1, 1, 1, 2, 1, 0, 1, 1, 1, 1, 1, 1, 2, 0, 1, 1, 1, 2, 1, 1, 1, 0, 1, 1, 1, 1, 2, 1, 1, 1, 1, 1, 1, 0, 2, 1, 0, 0, 1, 1, 1, 2, 0, 1, 0, 1, 0, 1, 1, 1, 1, 1, 1, 2, 1, 0, 2, 1, 2, 2, 0, 1, 0, 1, 1, 1, 1, 1, 0, 1, 1, 0, 2, 0, 1, 0, 2, 1, 1, 0, 1, 2, 2, 1, 1, 2, 0, 2, 0, 0, 0, 1, 2, 1, 1, 1, 0, 2, 2, 0, 0, 1, 0, 0, 0, 1, 1, 1, 2, 0, 0, 1, 0, 1, 0, 1, 1, 2, 1, 1, 1, 2, 1, 1, 1, 1, 1, 2, 0, 0, 2, 0, 1, 2, 1, 1, 2, 0, 0, 0, 1, 2, 1, 0, 2, 1, 1, 0, 1, 0, 1, 0, 1, 1, 1, 1, 2, 0, 1, 1, 1, 0, 2, 0, 1, 0, 1, 2, 0, 0, 0, 1, 0, 0, 1, 0, 0, 1, 2, 0, 1, 0, 1, 1, 1, 0, 1, 2, 0, 2, 0, 1, 1, 2, 0, 1, 2, 0, 0, 1, 1, 1, 0, 1, 0, 1, 1, 1, 2, 1, 1, 1, 1, 1, 0, 1, 0, 0, 0, 1, 0, 1, 0, 0, 1, 0, 1, 0, 0, 1, 2, 2, 1, 1, 2, 1, 1, 1, 0, 1, 1, 1, 2, 0, 2, 1, 2, 1, 1, 2, 2, 0, 0, 2, 1, 0, 1, 2, 1, 2, 0, 1, 1, 0, 2, 1, 2, 2, 2, 1, 1, 1, 2, 2, 1, 1, 1, 0, 1, 1, 2, 1, 0, 0, 0, 0, 0, 1, 0, 1, 0, 1, 0, 2, 1, 1, 1, 2, 2, 0, 2, 1, 1, 0, 1, 2, 1, 2, 1, 0, 2, 2, 1, 1, 1, 1, 1, 1, 1, 1, 1, 1, 1, 1, 0, 1, 2, 2, 0, 1, 1, 1, 2, 0, 1, 1, 1, 1, 0, 2, 1, 1, 1, 2, 1, 1, 1, 0, 0, 1, 1, 0, 1, 0, 0, 1, 0, 1, 0, 2, 1, 0, 2, 0, 2, 1, 1, 1, 1, 2, 2, 2, 1, 2, 2, 2, 1, 1, 2, 2, 0, 1, 1, 1, 1, 2, 2, 1, 1, 1, 1, 0, 0, 2, 0, 1, 0, 0, 0, 2, 1, 1, 0, 1, 1, 0, 2, 2, 1, 2, 2, 1, 2, 1, 1, 1, 1, 2, 0, 1, 0, 1, 0, 1, 1, 2, 0, 2, 0, 1, 1, 2, 0, 2, 1, 1, 1, 1, 1, 1, 0, 1, 0, 0, 2, 2, 1, 0, 1, 1, 1, 0, 1, 2, 2, 0, 2, 1, 0, 1, 0, 0, 0, 1, 1, 0, 0, 2, 1, 0, 1, 2, 2, 0, 1, 0, 2, 0, 1, 0, 0, 1, 2, 2, 1, 0, 0, 0, 1, 1, 1, 0, 1, 1, 1, 1, 1, 2, 0, 1, 1, 2, 1, 0, 1, 2, 0, 1, 1, 1, 0, 1, 1, 0, 0, 1, 1, 0, 1, 2, 1, 1, 0, 2, 0, 0, 2, 0, 0, 0, 2, 0, 0, 1, 0, 0, 0, 1, 0, 1, 1, 1, 0, 1, 1, 2, 0, 2, 1, 1, 1, 1, 0, 0, 0, 1, 0, 1, 1, 2, 1, 0, 1, 1, 2, 1, 0, 0, 1, 1, 0, 0, 0, 1, 2, 1, 0, 1, 0, 1, 0, 2, 1, 0, 1, 0, 1, 0, 0, 0, 1, 1, 0, 1, 1, 1, 1, 1, 0, 1, 1, 1, 0, 1, 1, 0, 2, 1, 1, 2, 2, 0, 0, 2, 1, 0, 0, 1, 1, 0, 1, 0, 1, 2, 0, 0, 2, 0, 1, 0, 2, 0, 1, 0, 0, 0, 0, 1, 1, 1, 0, 2, 1, 0, 2, 0, 0, 0, 2, 1, 1, 0, 1, 1, 2, 2, 1, 1, 0, 0, 0, 0, 2, 1, 0, 1, 1, 1, 0, 2, 0, 2, 0, 1, 2, 2, 0, 2, 1, 1, 1, 1, 2, 1, 1, 0, 1, 0, 0, 1, 2, 1, 2, 1, 0, 1, 0, 2, 0, 1, 2, 2, 2, 1, 1, 1, 0, 2, 0, 1, 0, 0, 1, 1, 1, 1, 0, 0, 0, 1, 0, 1, 1, 2, 1, 0, 1, 1, 1, 1, 1, 1, 1, 1, 2, 1, 1, 1, 1, 2, 1, 1, 2, 0, 2, 1, 1, 0, 1, 0, 0, 1, 1, 1, 0, 0, 2, 2, 2, 1, 0, 2, 1, 0, 2, 1, 1, 1, 1, 1, 1, 2, 1, 0, 1, 0, 2, 1, 0, 0, 0, 1, 1, 2, 0, 0, 1, 1, 1, 0, 2, 0, 0, 1, 0, 0, 0, 2, 0, 0, 1, 2, 1, 0, 1, 1, 2, 1, 2, 1, 1, 2, 0, 2, 2, 1, 2, 1, 0, 1, 2, 2, 2, 1, 1, 1, 2, 0, 0, 1, 1, 1, 1, 0, 2, 0, 1, 1, 0, 0, 2, 1, 1, 1, 1, 0, 0, 1, 1, 1, 1, 1, 1, 2, 1, 1, 0, 1, 0, 1, 0, 0, 0, 1, 0, 1, 2, 2, 1, 1, 1, 1, 0, 2, 0, 1, 0, 1, 0, 2, 2, 1, 0, 1, 2, 2, 2, 2, 1, 2, 1, 1, 0, 1, 1, 1, 1, 0, 0, 1, 2, 0, 1, 0, 2, 0, 0, 0, 2, 1, 1, 1, 0, 1, 1, 1, 2, 1, 1, 1, 2, 0, 2, 0, 1, 0, 1, 0, 1, 0, 1, 1, 2, 1, 0, 1, 1, 0, 0, 2, 1, 0, 1, 2, 1, 0, 2, 1, 1, 1, 0, 2, 1, 0, 0, 1, 0, 2, 1, 0, 1, 2, 2, 1, 1, 1, 0, 1, 2, 1, 2, 1, 2, 2, 1, 1, 1, 1, 1, 1, 1, 0, 2, 1, 0, 1, 0, 1, 0, 0, 1, 1, 1, 1, 1, 1, 1, 2, 2, 1, 1, 0, 1, 1, 1, 1, 0, 0, 2, 2, 1, 1, 1, 2, 2, 2, 1, 2, 2, 1, 0, 1, 0, 1, 2, 2, 1, 1, 2, 0, 0, 1, 1, 0, 0, 2, 1, 2, 1, 0, 1, 1, 1, 1, 1, 0, 1, 1, 0, 0, 1, 0, 1, 1, 2, 2, 0, 1, 2, 2, 0, 1, 0, 0, 2, 0, 1, 1, 0, 0, 1, 1, 1, 1, 1, 1, 0, 0, 1, 1, 0, 2, 1, 1, 0, 1, 1, 0, 1, 1, 1, 2, 1, 1, 1, 1, 0, 1, 1, 1, 1, 1, 1, 0, 0, 1, 0, 1, 0, 0, 1, 1, 1, 0, 2, 1, 0, 0, 1, 2, 2, 1, 2, 2, 2, 1, 1, 1, 0, 1, 1, 2, 1, 1, 2, 0, 1, 2, 2, 2, 1, 1, 0, 2, 1, 0, 0, 1, 2, 1, 1, 0, 1, 1, 2, 0, 0, 0, 1, 2, 1, 0, 2, 0, 0, 1, 0, 1, 2, 1, 2, 2, 2, 0, 0, 1, 1, 2, 0, 0, 1, 0, 1, 0, 2, 1, 0, 1, 1, 2, 2, 1, 1, 0, 0, 0, 2, 1, 2, 2, 2, 1, 1, 1, 1, 0, 2, 1, 1, 1, 1, 1, 1, 1, 1, 2, 1, 1, 2, 1, 1, 1, 0, 1, 2, 1, 0, 0, 1, 1, 1, 2, 1, 0, 2, 1, 2, 1, 1, 1, 2, 1, 1, 0, 1, 1, 2, 0, 2, 2, 1, 0, 1, 1, 2, 1, 1, 1, 1, 1, 1, 2, 0, 2, 1, 2, 2, 1, 1, 1, 1, 1, 2, 1, 0, 0, 2, 0, 1, 1, 1, 1, 0, 1, 0, 0, 1, 1, 0, 2, 0, 2, 1, 1, 1, 0, 0, 2, 1, 1, 0, 1, 1, 0, 2, 2, 1, 1, 1, 0, 0, 0, 0, 0, 1, 1, 1, 0, 1, 1, 0, 1, 1, 1, 1, 2, 1, 2, 1, 1, 1, 1, 2, 1, 1, 2, 1, 1, 1, 2, 1, 1, 1, 2, 2, 0, 0, 1, 1, 1, 2, 1, 0, 1, 0, 0, 1, 1, 1, 2, 2, 1, 2, 1, 1, 1, 2, 1, 0, 1, 1, 1, 1, 2, 0, 1, 1, 0, 0, 1, 0, 0, 0, 1, 1, 2, 1, 0, 1, 1, 1, 2, 0, 0, 2, 0, 1, 1, 1, 1, 1, 0, 1, 1, 1, 1, 1, 0, 0, 2, 1, 2, 0, 1, 1, 2, 1, 1, 2, 1, 1, 2, 0, 1, 1, 0, 1, 1, 1, 2, 1, 1, 1, 0, 1, 0, 1, 0, 1, 0, 0, 1, 1, 2, 0, 0, 2, 1, 1, 1, 0, 1, 1, 0, 0, 1, 1, 0, 0, 0, 0, 1, 1, 1, 1, 2, 0, 2, 0, 1, 0, 2, 0, 1, 1, 0, 0, 1, 2, 0, 1, 2, 1, 1, 2, 0, 1, 1, 0, 2, 0, 0, 1, 1, 0, 1, 1, 0, 0, 0, 1, 1, 0, 1, 1, 1, 1, 1, 1, 1, 0, 0, 1, 2, 0, 0, 1, 0, 1, 0, 2, 1, 1, 1, 1, 2, 2, 1, 1, 0, 0, 0, 2, 1, 0, 0, 0, 2, 2, 2, 1, 0, 0, 0, 1, 2, 1, 1, 1, 0, 1, 1, 1, 0, 2, 2, 1, 2, 0, 0, 1, 1, 2, 1, 2, 0, 1, 2, 1, 1, 0, 0, 1, 1, 1, 0, 1, 1, 2, 0, 0, 2, 1, 0, 1, 2, 1, 1, 0, 2, 0, 1, 0, 0, 1, 2, 1, 1, 1, 1, 1, 1, 1, 1, 0, 0, 1, 1, 2, 0, 1, 1, 1, 1, 0, 1, 1, 0, 1, 2, 1, 0, 0, 0, 2, 0, 0, 1, 1, 2, 1, 1, 0, 2, 1, 0, 1, 1, 1, 1, 1, 0, 0, 2, 0, 0, 1, 1, 1, 2, 1, 1, 1, 1, 0, 0, 1, 2, 0, 0, 1, 1, 0, 1, 2, 2, 1, 1, 1, 1, 1, 0, 1, 1, 0, 1, 1, 1, 0, 1, 0, 1, 1, 1, 1, 1, 0, 0, 1, 1, 0, 1, 2, 0, 0, 0, 2, 0, 0, 0, 1, 0, 0, 0, 1, 1, 1, 1, 0, 0, 0, 1, 1, 2, 1, 0, 1, 1, 1, 1, 2, 1, 1, 2, 2, 1, 0, 1, 1, 1, 2, 1, 1, 0, 1, 1, 0, 1, 1, 2, 0, 1, 1, 1, 2, 0, 2, 2, 0, 0, 0, 0, 2, 2, 2, 2, 2, 0, 0, 2, 1, 2, 1, 1, 0, 1, 1, 1, 1, 2, 1, 1, 0, 2, 2, 1, 0, 1, 0, 1, 2, 0, 1, 0, 1, 2, 1, 0, 1, 2, 1, 2, 1, 1, 1, 0, 2, 1, 0, 2, 0, 0, 1, 2, 1, 2, 1, 0, 0, 1, 1, 0, 0, 2, 1, 2, 1, 0, 1, 0, 1, 1, 1, 1, 1, 2, 2, 1, 2, 2, 2, 1, 2, 1, 1, 1, 0, 1, 2, 1, 1, 1, 1, 2, 0, 1, 1, 2, 1, 0, 1, 0, 0, 2, 0, 1, 0, 0, 1, 0, 0, 0, 0, 1, 2, 1, 1, 1, 2, 0, 1, 1, 2, 1, 1, 0, 0, 1, 1, 1, 1, 1, 0, 1, 0, 1, 1, 2, 1, 1, 0, 1, 2, 2, 2, 2, 1, 0, 1, 1, 1, 0, 2, 0, 0, 1, 1, 1, 1, 0, 0, 0, 1, 1, 1, 2, 1, 2, 1, 1, 1, 1, 0, 2, 0, 1, 2, 1, 1, 1, 1, 1, 1, 2, 1, 1, 0, 1, 0, 1, 0, 1, 2, 0, 1, 1, 0, 2, 1, 1, 0, 2, 0, 1, 0, 1, 2, 2, 1, 1, 2, 2, 2, 0, 2, 0, 0, 1, 0, 2, 0, 2, 1, 0, 2, 0, 0, 0, 2, 1, 1, 2, 0, 1, 2, 1, 0, 0, 0, 2, 1, 0, 0, 2, 1, 1, 0, 2, 1, 2, 1, 0, 1, 1, 1, 0, 1, 1, 1, 1, 0, 1, 1, 2, 1, 1, 1, 1, 1, 1, 0, 0, 0, 2, 1, 0, 1, 1, 1, 0, 1, 0, 1, 1, 1, 2, 2, 2, 1, 0, 2, 1, 2, 1, 1, 2, 0, 2, 1, 1, 0, 2, 0, 2, 1, 2, 1, 1, 0, 1, 1, 1, 0, 2, 0, 0, 0, 1, 1, 1, 1, 1, 1, 1, 1, 2, 1, 1, 1, 0, 1, 1, 1, 0, 1, 0, 0, 2, 1, 1, 1, 2, 0, 2, 1, 0, 2, 2, 2, 0, 1, 0, 1, 1, 0, 2, 1, 1, 2, 1, 0, 2, 1, 0, 0, 1, 1, 0, 1, 1, 0, 2, 2, 1, 0, 1, 1, 1, 1, 2, 2, 0, 0, 1, 1, 1, 2, 1, 0, 1, 1, 0, 1, 2, 1, 1, 1, 2, 1, 2, 0, 1, 1, 0, 0, 0, 2, 1, 0, 2, 2, 1, 2, 2, 1, 0, 1, 2, 1, 2, 0, 1, 2, 0, 2, 2, 1, 0, 0, 2, 1, 2, 2, 1, 1, 0, 2, 2, 0, 0, 1, 1, 1, 1, 1, 2, 2, 0, 1, 0, 1, 1, 1, 2, 1, 1, 0, 1, 0, 1, 2, 2, 0, 1, 0, 2, 1, 2, 1, 2, 1, 1, 2, 1, 1, 1, 2, 1, 0, 1, 0, 0, 1, 2, 2, 2, 2, 0, 1, 1, 0, 0, 1, 1, 1, 1, 1, 1, 0, 1, 1, 0, 1, 2, 1, 1, 0, 0, 1, 1, 1, 2, 1, 2, 2, 2, 2, 2, 2, 1, 1, 0, 1, 0, 2, 0, 1, 1, 0, 2, 1, 1, 1, 1, 2, 0, 1, 2, 1, 1, 1, 1, 1, 1, 1, 1, 1, 1, 2, 1, 1, 1, 0, 0, 0, 0, 1, 1, 2, 0, 1, 1, 0, 1, 1, 1, 1, 1, 0, 1, 2, 2, 1, 1, 2, 1, 2, 1, 2, 1, 1, 1, 2, 0, 0, 0, 0, 0, 1, 0, 1, 1, 0, 1, 2, 1, 0, 1, 0, 2, 2, 2, 1, 1, 1, 0, 0, 1, 2, 2, 1, 0, 1, 0, 1, 1, 1, 1, 1, 0, 0, 0, 0, 2, 0, 0, 1, 0, 0, 2, 1, 1, 1, 2, 0, 1, 1, 1, 1, 2, 0, 1, 0, 2, 1, 1, 0, 1, 1, 2, 0, 0, 2, 1, 1, 1, 1, 2, 1, 1, 2, 1, 1, 1, 0, 2, 2, 1, 1, 0, 0, 0, 1, 2, 2, 1, 1, 0, 1, 1, 1, 1, 1, 0, 1, 1, 2, 0, 0, 1, 2, 0, 2, 1, 2, 1, 1, 1, 1, 1, 1, 2, 2, 1, 0, 1, 0, 2, 2, 2, 0, 1, 1, 1, 2, 0, 1, 0, 1, 1, 0, 0, 2, 1, 0, 2, 1, 2, 0, 2, 0, 0, 0, 1, 1, 1, 1, 1, 1, 0, 1, 1, 1, 1, 2, 1, 1, 1, 1, 0, 1, 1, 0, 1, 1, 1, 0, 1, 1, 0, 1, 2, 0, 1, 2, 1, 1, 0, 1, 2, 0, 1, 2, 1, 1, 1, 1, 1, 0, 2, 1, 2, 0, 1, 1, 0, 2, 1, 2, 1, 1, 0, 2, 0, 2, 0, 1, 1, 1, 1, 1, 0, 1, 1, 2, 0, 0, 1, 1, 2, 1, 2, 0, 0, 2, 2, 2, 0, 0, 1, 1, 2, 2, 2, 1, 1, 1, 1, 2, 0, 2, 1, 1, 1, 1, 1, 1, 1, 1, 0, 2, 1, 2, 0, 1, 1, 1, 1, 0, 0, 1, 1, 1, 1, 1, 1, 1, 1, 1, 1, 0, 1, 1, 0, 0, 2, 0, 1, 0, 1, 1, 0, 1, 1, 0, 1, 0, 0, 1, 1, 1, 1, 2, 0, 0, 0, 1, 0, 0, 1, 2, 1, 0, 2, 1, 2, 2, 1, 0, 0, 0, 1, 1, 0, 2, 0, 2, 1, 2, 2, 1, 1, 0, 1, 1, 1, 0, 2, 0, 1, 0, 0, 1, 2, 2, 1, 0, 0, 1, 2, 0, 1, 1, 1, 1, 0, 1, 0, 2, 0, 2, 0, 1, 0, 1, 1, 0, 1, 2, 0, 2, 2, 1, 2, 1, 1, 1, 1, 1, 1, 1, 1, 1, 1, 1, 0, 1, 1, 2, 1, 0, 0, 1, 1, 1, 0, 0, 0, 1, 0, 0, 2, 1, 1, 0, 1, 1, 0, 1, 0, 0, 1, 1, 2, 1, 2, 1, 2, 1, 1, 1, 1, 1, 0, 1, 0, 0, 1, 0, 1, 1, 2, 0, 1, 1, 1, 2, 0, 1, 1, 1, 2, 1, 1, 1, 2, 2, 1, 1, 2, 0, 2, 1, 2, 2, 1, 1, 1, 2, 0, 2, 2, 0, 2, 1, 0, 0, 1, 1, 1, 1, 0, 1, 1, 0, 2, 0, 0, 0, 1, 2, 1, 1, 0, 1, 0, 1, 1, 2, 1, 2, 0, 0, 1, 1, 0, 1, 0, 1, 1, 1, 2, 0, 1, 0, 1, 1, 1, 1, 2, 1, 1, 1, 1, 1, 1, 1, 0, 1, 0, 1, 0, 0, 2, 1, 0, 1, 1, 1, 0, 1, 0, 1, 0, 1, 0, 1, 2, 0, 1, 2, 1, 1, 0, 0, 2, 1, 2, 1, 1, 1, 1, 1, 0, 0, 0, 1, 0, 1, 1, 1, 2, 2, 0, 0, 1, 2, 2, 1, 1, 0, 1, 1, 0, 2, 0, 2, 1, 1, 1, 0, 1, 0, 1, 1, 2, 1, 0, 0, 2, 1, 2, 1, 0, 1, 0, 1, 1, 1, 0, 0, 1, 0, 1, 2, 2, 2, 2, 1, 0, 1, 0, 2, 2, 1, 2, 1, 0, 1, 1, 1, 2, 1, 1, 1, 0, 1, 0, 1, 2, 2, 0, 0, 0, 2, 1, 2, 0, 1, 1, 1, 0, 0, 2, 1, 2, 1, 2, 1, 2, 1, 1, 1, 1, 2, 1, 1, 1, 1, 0, 1, 0, 1, 1, 1, 1, 1, 1, 2, 1, 1, 0, 1, 0, 1, 1, 1, 0, 1, 1, 1, 2, 0, 0, 0, 2, 2, 2, 0, 0, 0, 1, 1, 0, 1, 0, 0, 1, 0, 1, 0, 2, 1, 0, 1, 1, 0, 1, 2, 0, 0, 1, 1, 1, 2, 0, 2, 2, 0, 0, 1, 2, 1, 1, 1, 2, 1, 1, 0, 0, 0, 2, 2, 1, 1, 1, 1, 0, 0, 1, 0, 0, 1, 0, 0, 0, 1, 1, 0, 1, 0, 0, 1, 1, 1, 1, 2, 1, 1, 2, 0, 0, 1, 2, 2, 0, 1, 2, 1, 0, 1, 0, 0, 1, 2, 0, 1, 2, 0, 2, 2, 1, 1, 1, 1, 2, 1, 0, 1, 1, 1, 0, 0, 1, 1, 0, 1, 1, 2, 1, 0, 0, 1, 1, 2, 1, 2, 1, 1, 1, 1, 1, 1, 1, 2, 1, 0, 1, 1, 0, 1, 0, 0, 1, 0, 2, 2, 2, 2, 1, 0, 0, 1, 0, 1, 0, 0, 0, 1, 0, 0, 1, 0, 2, 1, 1, 1, 1, 2, 2, 2, 1, 1, 0, 2, 1, 1, 2, 0, 1, 2, 2, 1, 0, 0, 2, 0, 0, 0, 2, 0, 0, 1, 2, 1, 1, 2, 1, 2, 0, 1, 2, 0, 0, 2, 1, 0, 0, 1, 0, 0, 2, 1, 0, 1, 2, 1, 1, 1, 1, 1, 1, 1, 2, 2, 1, 1, 1, 2, 1, 0, 2, 2, 1, 1, 0, 0, 2, 0, 0, 0, 1, 1, 2, 2, 2, 0, 0, 2, 0, 0, 2, 0, 0, 2, 0, 0, 1, 0, 1, 0, 1, 1, 1, 0, 0, 0, 2, 2, 1, 2, 0, 1, 1, 2, 2, 1, 0, 1, 0, 0, 2, 2, 2, 2, 0, 1, 1, 0, 0, 0, 0, 0, 1, 1, 1, 0, 1, 1, 0, 0, 1, 0, 1, 1, 1, 2, 1, 2, 2, 2, 1, 0, 1, 1, 0, 1, 0, 1, 2, 0, 1, 1, 1, 2, 1, 2, 0, 0, 2, 1, 1, 1, 2, 1, 1, 1, 0, 2, 1, 1, 0, 0, 0, 0, 1, 1, 2, 1, 1, 1, 2, 2, 0, 2, 2, 1, 1, 0, 1, 2, 1, 0, 1, 1, 1, 0, 2, 2, 1, 1, 1, 2, 2, 1, 0, 2, 0, 1, 1, 1, 0, 0, 0, 1, 2, 0, 1, 0, 1, 2, 2, 1, 1, 1, 0, 2, 0, 0, 0, 1, 0, 0, 0, 1, 0, 1, 1, 0, 1, 1, 0, 0, 1, 0, 1, 1, 2, 1, 1, 1, 1, 2, 0, 1, 0, 2, 1, 2, 2, 1, 2, 0, 1, 2, 0, 2, 1, 2, 1, 1, 1, 1, 2, 2, 0, 0, 2, 0, 1, 1, 1, 1, 2, 1, 1, 2, 2, 1, 1, 1, 1, 1, 1, 0, 2, 1, 1, 0, 2, 2, 1, 0, 1, 1, 0, 2, 1, 0, 2, 1, 1, 2, 1, 0, 1, 1, 1, 0, 0, 0, 0, 1, 1, 0, 1, 2, 1, 1, 2, 1, 0, 1, 1, 1, 0, 0, 2, 0, 0, 1, 1, 0, 1, 2, 1, 0, 1, 1, 1, 1, 1, 1, 0, 1, 1, 0, 0, 0, 1, 1, 1, 0, 1, 1, 2, 0, 0, 0, 1, 0, 0, 2, 0, 0, 1, 1, 1, 0, 1, 0, 1, 0, 2, 1, 1, 2, 0, 1, 0, 1, 2, 1, 1, 1, 1, 0, 1, 0, 1, 0, 0, 0, 2, 1, 1, 1, 1, 2, 2, 0, 1, 1, 1, 2, 1, 1, 1, 1, 0, 2, 0, 2, 0, 0, 1, 2, 1, 1, 1, 1, 1, 1, 0, 1, 0, 2, 1, 1, 0, 0, 1, 1, 0, 1, 1, 1, 0, 2, 0, 0, 2, 0, 2, 1, 1, 1, 1, 1, 2, 0, 1, 0, 1, 0, 1, 1, 1, 2, 2, 1, 1, 0, 1, 1, 1, 0, 2, 1, 0, 1, 1, 1, 1, 2, 1, 0, 1, 2, 2, 2, 1, 0, 0, 0, 0, 1, 1, 2, 2, 2, 1, 1, 1, 2, 0, 1, 2, 2, 1, 1, 2, 1, 1, 0, 1, 0, 0, 1, 0, 0, 1, 1, 0, 0, 2, 0, 2, 1, 1, 0, 1, 2, 1, 1, 2, 1, 1, 2, 0, 1, 1, 1, 2, 2, 1, 1, 2, 1, 1, 1, 1, 0, 1, 2, 0, 1, 2, 1, 0, 1, 1, 0, 1, 1, 0, 0, 2, 1, 0, 2, 2, 0, 0, 0, 2, 1, 0, 1, 1, 1, 0, 0, 2, 1, 0, 2, 1, 2, 1, 1, 2, 1, 0, 0, 1, 1, 1, 2, 0, 1, 2, 2, 1, 2, 1, 0, 1, 0, 0, 2, 2, 1, 1, 0, 0, 1, 0, 2, 1, 0, 1, 1, 1, 1, 1, 2, 1, 0, 1, 1, 2, 1, 2, 2, 2, 2, 2, 2, 1, 1, 0, 1, 1, 2, 2, 1, 1, 0, 2, 0, 1, 1, 0, 1, 1, 2, 0, 1, 1, 2, 0, 2, 2, 1, 0, 0, 0, 2, 0, 1, 1, 2, 1, 1, 1, 1, 0, 1, 0, 1, 1, 0, 2, 1, 1, 0, 0, 0, 2, 0, 2, 1, 0, 1, 1, 0, 2, 2, 0, 1, 1, 1, 0, 0, 0, 1, 2, 1, 1, 0, 1, 1, 0, 2, 1, 0, 0, 0, 0, 1, 0, 0, 1, 0, 2, 0, 1, 0, 2, 0, 1, 1, 1, 1, 0, 0, 2, 1, 0, 1, 1, 1, 1, 1, 1, 1, 1, 0, 0, 0, 0, 1, 2, 1, 0, 0, 2, 1, 1, 2, 1, 2, 2, 1, 0, 0, 1, 1, 0, 1, 2, 1, 2, 2, 1, 1, 2, 0, 1, 0, 0, 1, 2, 1, 2, 1, 1, 0, 1, 2, 1, 1, 1, 1, 2, 1, 2, 0, 2, 1, 1, 1, 2, 0, 1, 1, 1, 2, 0, 1, 2, 1, 1, 1, 0, 1, 0, 1, 1, 2, 1, 1, 0, 0, 0, 0, 1, 1, 1, 0, 0, 1, 1, 2, 1, 2, 1, 1, 0, 2, 1, 1, 0, 1, 1, 1, 1, 1, 1, 1, 1, 0, 2, 0, 1, 0, 2, 0, 1, 2, 1, 2, 2, 1, 0, 1, 1, 2, 1, 0, 1, 0, 0, 0, 1, 2, 1, 1, 1, 1, 1, 0, 1, 0, 1, 1, 1, 2, 1, 0, 2, 1, 0, 2, 1, 0, 1, 2, 0, 2, 2, 0, 2, 1, 2, 1, 1, 1, 2, 1, 0, 1, 2, 1, 1, 1, 0, 0, 1, 1, 0, 1, 1, 1, 2, 0, 1, 2, 0, 1, 1, 1, 1, 1, 0, 2, 1, 1, 1, 0, 1, 0, 0, 0, 2, 0, 1, 2, 2, 0, 1, 0, 1, 0, 1, 1, 0, 1, 2, 1, 0, 0, 1, 1, 0, 0, 0, 0, 1, 0, 1, 0, 2, 2, 0, 1, 1, 2, 2, 1, 2, 0, 1, 0, 1, 2, 1, 0, 1, 0, 1, 2, 1, 1, 2, 1, 1, 2, 0, 2, 2, 0, 1, 2, 1, 2, 0, 2, 1, 2, 1, 1, 1, 1, 1, 0, 2, 2, 2, 1, 1, 1, 0, 2, 0, 0, 2, 0, 1, 1, 2, 0, 2, 1, 0, 0, 0, 0, 2, 0, 0, 1, 1, 1, 1, 1, 1, 1, 1, 1, 1, 0, 1, 1, 0, 1, 0, 1, 1, 0, 2, 0, 0, 1, 0, 0, 0, 0, 2, 1, 0, 1, 0, 1, 0, 1, 2, 1, 1, 1, 1, 2, 1, 1, 1, 1, 1, 1, 1, 0, 0, 1, 0, 0, 0, 0, 1, 2, 1, 0, 1, 0, 1, 1, 2, 1, 2, 1, 0, 0, 1, 0, 1, 0, 1, 0, 0, 0, 2, 0, 0, 1, 0, 1, 1, 0, 1, 1, 0, 1, 0, 2, 1, 1, 1, 0, 1, 0, 1, 2, 0, 1, 1, 0, 0, 1, 1, 0, 2, 1, 0, 1, 0, 2, 0, 1, 1, 0, 2, 2, 0, 0, 1, 0, 1, 0, 0, 0, 2, 2, 0, 2, 0, 1, 0, 1, 2, 1, 2, 1, 1, 1, 2, 1, 1, 0, 1, 0, 1, 0, 1, 0, 2, 0, 1, 2, 0, 2, 2, 2, 1, 0, 1, 0, 0, 0, 1, 0, 1, 0, 0, 2, 1, 1, 1, 0, 2, 1, 2, 0, 1, 2, 1, 1, 1, 0, 2, 1, 1, 1, 1, 2, 1, 2, 0, 2, 1, 2, 0, 0, 0, 1, 1, 2, 2, 1, 2, 0, 2, 2, 1, 1, 1, 1, 1, 0, 1, 0, 1, 1, 0, 1, 1, 0, 1, 1, 2, 1, 0, 0, 1, 0, 1, 0, 2, 1, 0, 1, 0, 1, 0, 2, 2, 1, 0, 2, 0, 1, 1, 2, 2, 0, 1, 2, 2, 0, 1, 0, 0, 1, 1, 1, 0, 1, 2, 1, 1, 1, 1, 0, 1, 1, 1, 1, 0, 1, 2, 0, 0, 0, 2, 0, 2, 1, 0, 1, 1, 1, 2, 0, 2, 2, 1, 1, 1, 0, 2, 2, 2, 1, 1, 1, 0, 1, 1, 0, 2, 0, 2, 1, 1, 1, 0, 2, 1, 1, 0, 1, 1, 0, 2, 1, 1, 1, 0, 1, 0, 1, 1, 1, 0, 1, 2, 0, 2, 2, 1, 1, 1, 2, 0, 0, 2, 1, 0, 0, 1, 0, 0, 1, 1, 2, 2, 2, 1, 0, 1, 2, 0, 1, 2, 2, 1, 0, 1, 1, 1, 2, 1, 1, 0, 1, 0, 0, 1, 2, 2, 0, 0, 2, 1, 1, 0, 1, 0, 0, 0, 1, 1, 1, 1, 2, 1, 1, 2, 2, 0, 1, 1, 1, 2, 0, 1, 0, 1, 1, 1, 1, 2, 2, 1, 0, 0, 1, 1, 1, 0, 0, 0, 1, 1, 0, 2, 1, 1, 1, 2, 0, 1, 1, 2, 1, 2, 0, 1, 0, 0, 2, 1, 1, 2, 1, 1, 1, 1, 0, 1, 1, 2, 0, 1, 0, 0, 2, 0, 2, 0, 0, 1, 1, 0, 1, 1, 1, 2, 0, 1, 1, 1, 1, 1, 2, 1, 0, 1, 2, 1, 1, 2, 1, 2, 0, 2, 0, 1, 1, 0, 1, 2, 0, 1, 1, 1, 0, 1, 0, 0, 0, 2, 1, 1, 0, 0, 0, 1, 0, 1, 1, 0, 0, 0, 1, 2, 0, 1, 1, 1, 1, 0, 2, 0, 1, 1, 2, 0, 0, 0, 1, 0, 0, 0, 1, 1, 1, 1, 0, 1, 0, 0, 0, 0, 0, 0, 1, 0, 0, 1, 1, 1, 1, 0, 0, 1, 1, 2, 1, 1, 2, 0, 1, 2, 1, 1, 1, 0, 1, 1, 0, 0, 1, 1, 1, 0, 1, 1, 0, 1, 1, 2, 0, 1, 0, 0, 1, 2, 1, 2, 1, 1, 1, 0, 0, 0, 1, 2, 2, 1, 1, 0, 1, 1, 1, 1, 1, 0, 1, 2, 1, 1, 1, 1, 2, 1, 1, 0, 1, 1, 2, 0, 0, 1, 0, 1, 1, 2, 1, 2, 1, 0, 0, 1, 1, 2, 1, 2, 1, 1, 0, 1, 0, 1, 0, 1, 1, 2, 1, 1, 1, 2, 0, 0, 1, 2, 1, 2, 1, 2, 1, 1, 0, 2, 2, 0, 2, 1, 2, 1, 2, 0, 1, 0, 2, 1, 1, 1, 1, 1, 1, 0, 2, 0, 2, 0, 1, 1, 0, 1, 1, 1, 1, 2, 0, 0, 0, 1, 1, 2, 0, 1, 1, 1, 1, 0, 1, 2, 1, 2, 2, 1, 1, 0, 2, 2, 0, 0, 2, 2, 2, 2, 1, 1, 2, 0, 2, 1, 1, 2, 2, 1, 0, 1, 0, 1, 1, 1, 0, 2, 0, 1, 2, 1, 1, 2, 0, 1, 2, 1, 1, 2, 0, 2, 0, 2, 1, 0, 1, 1, 2, 1, 2, 1, 1, 2, 0, 1, 1, 1, 1, 1, 1, 2, 0, 2, 2, 1, 1, 1, 1, 1, 0, 0, 1, 1, 0, 2, 2, 0, 0, 0, 2, 1, 0, 0, 1, 2, 1, 1, 1, 1, 2, 1, 1, 0, 2, 0, 1, 1, 1, 2, 1, 1, 2, 0, 0, 0, 2, 2, 1, 2, 0, 1, 0, 0, 0, 1, 1, 0, 1, 2, 1, 2, 2, 1, 1, 0, 2, 1, 2, 2, 1, 2, 2, 1, 1, 1, 1, 1, 0, 0, 1, 1, 0, 1, 1, 1, 2, 2, 1, 2, 1, 2, 1, 0, 1, 0, 1, 1, 1, 2, 1, 2, 0, 0, 1, 2, 0, 0, 1, 0, 1, 0, 2, 1, 2, 2, 1, 1, 0, 1, 2, 0, 1, 1, 0, 0, 0, 2, 1, 1, 2, 2, 0, 0, 1, 2, 1, 2, 0, 2, 2, 0, 1, 1, 2, 1, 2, 0, 1, 2, 1, 1, 2, 2, 0, 2, 1, 1, 0, 0, 0, 1, 0, 1, 0, 1, 2, 1, 1, 2, 2, 2, 1, 2, 2, 0, 1, 1, 1, 2, 2, 1, 0, 1, 2, 1, 0, 1, 1, 1, 0, 2, 0, 1, 1, 0, 1, 1, 1, 1, 0, 1, 0, 1, 0, 0, 1, 1, 1, 1, 1, 1, 1, 0, 1, 2, 0, 1, 1, 1, 1, 1, 0, 2, 1, 1, 1, 2, 1, 0, 1, 1, 0, 0, 1, 1, 0, 0, 0, 1, 0, 2, 0, 1, 0, 2, 2, 0, 2, 1, 1, 2, 1, 1, 1, 1, 0, 1, 1, 0, 1, 0, 1, 0, 2, 1, 1, 2, 2, 2, 2, 2, 2, 1, 1, 1, 1, 1, 1, 1, 1, 0, 0, 0, 1, 1, 1, 1, 0, 1, 2, 0, 0, 1, 1, 0, 1, 0, 0, 1, 1, 0, 1, 1, 1, 2, 0, 1, 1, 1, 0, 0, 2, 1, 2, 0, 0, 1, 2, 1, 0, 1, 1, 2, 0, 0, 0, 1, 1, 0, 2, 2, 1, 1, 1, 2, 1, 0, 0, 1, 1, 2, 0, 1, 1, 0, 2, 0, 0, 0, 2, 0, 2, 0, 2, 1, 2, 1, 1, 1, 2, 0, 0, 0, 1, 0, 2, 1, 0, 1, 2, 1, 0, 1, 1, 0, 0, 0, 0, 0, 0, 0, 1, 1, 1, 1, 2, 2, 1, 0, 2, 1, 1, 1, 1, 1, 2, 0, 0, 0, 1, 2, 1, 1, 0, 0, 1, 1, 1, 1, 0, 0, 0, 0, 1, 1, 0, 1, 1, 1, 2, 1, 2, 0, 2, 1, 0, 1, 2, 0, 0, 1, 2, 1, 1, 2, 0, 0, 0, 1, 2, 0, 1, 1, 1, 1, 1, 1, 1, 1, 0, 2, 0, 2, 0, 1, 1, 0, 1, 1, 2, 1, 0, 1, 0, 2, 1, 1, 2, 1, 2, 2, 1, 2, 1, 0, 2, 1, 1, 0, 2, 1, 1, 2, 0, 0, 2, 2, 0, 1, 1, 1, 0, 2, 1, 2, 0, 0, 1, 1, 2, 1, 1, 0, 1, 1, 2, 1, 0, 0, 2, 1, 1, 1, 1, 1, 0, 1, 0, 0, 0, 0, 2, 0, 0, 0, 0, 2, 1, 2, 1, 1, 1, 1, 2, 0, 0, 1, 1, 1, 1, 1, 1, 1, 1, 0, 0, 0, 0, 1, 1, 1, 1, 0, 1, 1, 1, 1, 0, 1, 0, 1, 2, 0, 2, 1, 1, 2, 2, 1, 1, 1, 1, 1, 2, 1, 0, 1, 0, 2, 2, 1, 0, 2, 1, 1, 1, 0, 1, 0, 2, 1, 1, 1, 1, 1, 0, 0, 1, 1, 0, 0, 0, 1, 0, 0, 1, 1, 2, 2, 2, 1, 0, 1, 1, 0, 1, 1, 1, 2, 0, 2, 1, 2, 2, 1, 1, 1, 0, 1, 2, 1, 0, 0, 2, 0, 2, 1, 1, 0, 1, 0, 0, 0, 1, 1, 0, 1, 2, 1, 0, 1, 0, 1, 0, 1, 1, 1, 1, 2, 1, 0, 1, 0, 1, 1, 1, 0, 0, 1, 1, 2, 2, 0, 2, 0, 1, 1, 1, 0, 0, 1, 1, 0, 1, 2, 1, 2, 2, 1, 2, 1, 0, 1, 1, 2, 1, 1, 0, 0, 0, 1, 1, 0, 1, 0, 1, 0, 1, 1, 1, 2, 1, 0, 1, 1, 1, 0, 0, 2, 1, 2, 0, 0, 1, 1, 1, 2, 1, 0, 2, 0, 1, 1, 0, 0, 1, 2, 1, 0, 1, 1, 2, 2, 1, 0, 1, 0, 1, 0, 0, 1, 2, 0, 2, 1, 1, 1, 2, 0, 1, 1, 0, 2, 1, 0, 0, 1, 0, 2, 2, 1, 0, 2, 1, 2, 1, 1, 1, 1, 1, 2, 1, 2, 2, 1, 1, 1, 1, 1, 1, 1, 1, 0, 1, 0, 2, 1, 1, 1, 0, 1, 1, 0, 0, 1, 1, 1, 1, 2, 0, 1, 0, 1, 0, 1, 1, 1, 2, 1, 2, 1, 1, 0, 2, 0, 1, 2, 1, 1, 1, 1, 2, 1, 2, 0, 0, 1, 1, 0, 0, 1, 1, 2, 1, 2, 2, 2, 1, 0, 1, 1, 1, 2, 1, 1, 1, 1, 0, 0, 2, 2, 1, 1, 0, 1, 0, 1, 0, 0, 1, 2, 1, 1, 1, 0, 0, 0, 0, 1, 0, 1, 1, 1, 1, 2, 1, 2, 1, 0, 2, 0, 2, 2, 1, 1, 0, 2, 1, 1, 1, 1, 1, 1, 0, 0, 0, 0, 0, 1, 0, 1, 1, 2, 1, 2, 2, 0, 2, 0, 1, 0, 0, 0, 1, 1, 1, 2, 1, 1, 2, 1, 1, 0, 2, 2, 0, 1, 0, 0, 0, 1, 0, 2, 0, 0, 1, 1, 1, 0, 0, 2, 1, 1, 1, 2, 1, 1, 2, 1, 0, 0, 2, 2, 2, 0, 0, 0, 2, 2, 1, 1, 1, 2, 0, 0, 1, 1, 0, 1, 0, 1, 1, 1, 0, 1, 2, 2, 0, 2, 1, 0, 1, 1, 1, 1, 2, 2, 1, 0, 0, 2, 2, 2, 2, 1, 0, 1, 1, 0, 0, 2, 1, 1, 1, 1, 1, 1, 0, 0, 1, 2, 2, 2, 0, 0, 1, 1, 0, 1, 1, 0, 0, 2, 1, 1, 1, 1, 0, 0, 0, 2, 1, 0, 1, 1, 1, 1, 2, 1, 1, 1, 2, 0, 1, 2, 1, 2, 2, 1, 1, 0, 0, 0, 2, 1, 0, 1, 1, 2, 2, 0, 2, 1, 2, 1, 2, 1, 0, 1, 1, 1, 1, 1, 1, 2, 1, 2, 1, 1, 1, 2, 2, 1, 1, 1, 1, 1, 0, 1, 1, 0, 2, 1, 0, 0, 1, 2, 2, 1, 1, 2, 1, 1, 1, 2, 1, 2, 2, 0, 1, 0, 1, 1, 2, 1, 0, 2, 0, 1, 1, 1, 1, 2, 0, 1, 0, 1, 1, 1, 1, 1, 1, 1, 1, 1, 1, 1, 2, 2, 1, 2, 1, 1, 0, 0, 0, 1, 1, 0, 1, 1, 1, 2, 1, 1, 0, 2, 1, 0, 0, 0, 2, 0, 1, 0, 2, 0, 0, 0, 2, 2, 2, 2, 1, 1, 0, 2, 1, 0, 0, 0, 1, 1, 2, 1, 0, 1, 1, 1, 0, 0, 0, 1, 2, 1, 1, 1, 1, 1, 0, 1, 1, 1, 2, 2, 0, 2, 1, 1, 2, 1, 0, 1, 1, 1, 1, 1, 0, 2, 0, 1, 1, 1, 1, 1, 1, 0, 1, 1, 1, 2, 1, 0, 0, 1, 1, 1, 0, 2, 1, 0, 1, 1, 1, 1, 1, 1, 1, 1, 1, 0, 1, 1, 0, 1, 0, 0, 1, 1, 1, 2, 1, 0, 2, 1, 1, 1, 1, 0, 1, 2, 1, 1, 1, 0, 0, 0, 2, 0, 1, 1, 2, 0, 2, 1, 2, 2, 0, 0, 1, 0, 0, 1, 1, 2, 1, 1, 2, 1, 0, 2, 1, 1, 0, 2, 1, 1, 2, 1, 0, 2, 1, 2, 1, 1, 1, 0, 1, 1, 1, 0, 1, 1, 1, 1, 1, 1, 1, 0, 1, 1, 0, 0, 2, 1, 2, 0, 1, 0, 1, 0, 2, 2, 1, 1, 1, 0, 2, 1, 2, 1, 2, 0, 2, 0, 1, 1, 1, 1, 1, 0, 2, 1, 2, 1, 1, 1, 1, 2, 1, 2, 1, 2, 2, 1, 1, 1, 0, 1, 2, 0, 0, 2, 1, 1, 1, 1, 1, 2, 1, 2, 2, 1, 1, 1, 2, 1, 1, 1, 0, 0, 1, 0, 2, 1, 1, 1, 1, 1, 0, 1, 0, 0, 1, 2, 1, 2, 1, 0, 1, 1, 1, 1, 2, 0, 1, 1, 2, 0, 0, 1, 2, 0, 0, 0, 0, 0, 1, 2, 2, 0, 1, 1, 1, 1, 2, 1, 2, 2, 1, 1, 2, 1, 0, 0, 0, 2, 0, 0, 0, 2, 0, 1, 0, 2, 0, 0, 0, 2, 0, 1, 1, 1, 0, 1, 1, 1, 1, 0, 2, 1, 1, 0, 2, 1, 0, 1, 1, 2, 1, 0, 1, 2, 2, 1, 1, 2, 1, 1, 1, 1, 2, 1, 1, 0, 1, 1, 2, 1, 1, 2, 1, 1, 1, 2, 2, 1, 1, 2, 1, 2, 1, 2, 1, 1, 1, 1, 1, 2, 0, 0, 1, 1, 1, 2, 1, 2, 1, 0, 1, 1, 0, 2, 2, 1, 1, 1, 1, 1, 2, 1, 0, 2, 2, 0, 0, 2, 1, 1, 1, 1, 0, 0, 2, 1, 1, 1, 1, 0, 1, 1, 1, 1, 0, 1, 0, 1, 0, 1, 1, 1, 1, 1, 2, 0, 1, 0, 1, 1, 2, 1, 1, 0, 0, 0, 0, 0, 1, 2, 1, 1, 2, 2, 0, 1, 1, 1, 1, 1, 0, 2, 0, 1, 2, 1, 0, 1, 0, 1, 2, 0, 1, 2, 1, 0, 2, 0, 0, 1, 2, 2, 2, 0, 2, 1, 1, 1, 2, 2, 2, 0, 0, 0, 0, 1, 1, 0, 2, 1, 1, 1, 1, 2, 1, 0, 1, 0, 1, 0, 1, 1, 0, 1, 2, 1, 0, 0, 1, 1, 1, 2, 1, 2, 1, 1, 1, 2, 2, 1, 0, 2, 0, 0, 1, 0, 1, 1, 0, 1, 1, 2, 0, 2, 1, 1, 0, 1, 2, 0, 1, 1, 2, 1, 0, 1, 1, 2, 0, 1, 2, 2, 2, 0, 0, 1, 2, 1, 2, 0, 1, 1, 1, 1, 2, 1, 1, 1, 0, 2, 0, 1, 0, 2, 2, 2, 0, 1, 0, 1, 2, 1, 1, 2, 0, 1, 1, 0, 1, 2, 1, 2, 1, 1, 0, 2, 1, 1, 1, 1, 1, 0, 0, 1, 1, 1, 1, 1, 2, 1, 1, 0, 1, 1, 1, 0, 1, 1, 1, 2, 1, 2, 1, 2, 2, 2, 0, 1, 0, 1, 1, 2, 0, 0, 0, 2, 1, 2, 0, 0, 0, 0, 0, 1, 0, 0, 1, 2, 2, 1, 1, 2, 1, 1, 1, 0, 2, 1, 0, 2, 2, 2, 2, 0, 2, 2, 2, 2, 1, 0, 1, 1, 2, 2, 2, 2, 2, 2, 1, 2, 2, 2, 0, 2, 2, 1, 0, 1, 1, 2, 1, 1, 2, 1, 0, 1, 1, 1, 2, 0, 1, 1, 0, 2, 1, 1, 2, 1, 1, 1, 1, 1, 1, 1, 2, 2, 0, 1, 2, 2, 1, 2, 2, 0, 1, 0, 1, 1, 2, 2, 1, 2, 0, 1, 1, 0, 0, 1, 2, 1, 1, 2, 1, 1, 1, 0, 1, 1, 1, 1, 1, 1, 1, 2, 1, 1, 0, 1, 1, 0, 2, 1, 0, 0, 1, 0, 0, 1, 1, 2, 2, 0, 2, 2, 1, 2, 2, 0, 2, 1, 0, 2, 2, 1, 1, 1, 1, 1, 1, 0, 1, 2, 0, 1, 2, 1, 2, 1, 0, 1, 1, 2, 0, 1, 2, 2, 1, 1, 1, 2, 1, 1, 1, 0, 0, 2, 1, 2, 1, 2, 0, 1, 0, 2, 0, 2, 0, 1, 0, 1, 1, 1, 0, 2, 0, 2, 2, 0, 0, 2, 1, 1, 1, 1, 2, 2, 2, 1, 2, 0, 0, 2, 1, 1, 0, 2, 1, 0, 2, 0, 1, 0, 0, 1, 1, 0, 2, 0, 1, 0, 2, 0, 1, 2, 2, 0, 1, 2, 1, 1, 0, 2, 2, 1, 1, 1, 1, 2, 2, 1, 0, 1, 1, 0, 1, 2, 2, 2, 1, 1, 0, 1, 2, 1, 0, 1, 0, 2, 2, 1, 1, 1, 1, 2, 0, 1, 2, 1, 0, 0, 0, 0, 1, 1, 1, 1, 2, 1, 0, 0, 1, 1, 2, 2, 2, 0, 1, 2, 0, 1, 0, 2, 1, 1, 1, 1, 1, 1, 1, 2, 1, 1, 0, 1, 1, 0, 2, 1, 2, 2, 1, 2, 1, 2, 1, 1, 1, 2, 2, 1, 1, 1, 0, 1, 2, 0, 2, 0, 1, 2, 0, 1, 0, 2, 1, 0, 1, 1, 1, 0, 2, 1, 1, 1, 1, 0, 0, 1, 1, 2, 1, 1, 1, 1, 1, 0, 1, 1, 1, 0, 2, 0, 2, 1, 0, 1, 0, 0, 0, 1, 1, 0, 2, 0, 2, 2, 1, 1, 1, 1, 1, 1, 1, 1, 0, 1, 1, 1, 1, 0, 1, 0, 1, 1, 0, 2, 1, 1, 0, 1, 0, 0, 1, 0, 2, 2, 0, 2, 1, 2, 2, 2, 0, 0, 1, 0, 1, 0, 0, 0, 1, 1, 2, 2, 2, 1, 2, 1, 2, 1, 2, 1, 0, 2, 1, 1, 1, 2, 0, 2, 1, 0, 0, 1, 1, 1, 1, 1, 2, 2, 1, 0, 2, 1, 0, 1, 1, 0, 0, 1, 1, 0, 2, 1, 0, 2, 2, 2, 0, 0, 0, 1, 2, 1, 1, 1, 1, 2, 1, 1, 2, 1, 0, 0, 0, 2, 1, 2, 1, 1, 1, 1, 0, 1, 1, 2, 0, 0, 1, 1, 2, 2, 1, 1, 1, 1, 0, 0, 1, 1, 2, 0, 1, 1, 2, 0, 2, 2, 1, 1, 2, 0, 2, 1, 2, 1, 1, 0, 1, 0, 1, 2, 0, 1, 2, 1, 0, 1, 1, 1, 2, 0, 0, 1, 0, 0, 0, 1, 1, 1, 2, 0, 0, 0, 1, 2, 1, 0, 0, 1, 1, 1, 1, 1, 2, 0, 2, 0, 2, 0, 1, 1, 1, 1, 0, 0]\n",
            "[2, 1, 1, 2, 0, 2, 0, 1, 1, 0, 1, 1, 0, 0, 0, 0, 1, 0, 1, 1, 1, 0, 1, 0, 0, 1, 1, 1, 0, 2, 0, 1, 2, 1, 1, 1, 0, 1, 1, 2, 1, 1, 1, 1, 2, 0, 1, 1, 1, 2, 1, 2, 1, 1, 2, 1, 2, 1, 2, 1, 0, 1, 1, 2, 1, 0, 0, 0, 0, 2, 0, 2, 1, 1, 1, 1, 1, 1, 1, 1, 0, 1, 1, 2, 0, 0, 1, 1, 1, 2, 1, 0, 2, 1, 0, 1, 1, 1, 1, 0, 0, 1, 1, 1, 0, 2, 0, 1, 2, 1, 1, 1, 1, 0, 1, 0, 2, 0, 0, 1, 0, 2, 2, 0, 2, 1, 0, 2, 0, 1, 2, 0, 0, 0, 2, 1, 1, 0, 1, 1, 1, 2, 0, 0, 0, 0, 1, 1, 1, 1, 0, 1, 1, 1, 1, 1, 0, 1, 1, 1, 0, 0, 1, 0, 0, 1, 1, 0, 1, 1, 0, 0, 1, 1, 1, 2, 1, 0, 1, 1, 0, 2, 0, 1, 2, 1, 0, 0, 2, 2, 0, 2, 0, 1, 1, 2, 0, 2, 0, 1, 1, 1, 2, 0, 0, 1, 0, 1, 1, 1, 1, 1, 0, 0, 1, 2, 0, 1, 2, 0, 2, 1, 1, 0, 1, 1, 1, 0, 1, 1, 1, 1, 1, 2, 0, 0, 0, 0, 0, 1, 1, 1, 2, 1, 2, 2, 2, 1, 1, 0, 1, 1, 1, 0, 1, 2, 2, 2, 1, 1, 1, 1, 1, 1, 1, 2, 1, 0, 1, 2, 2, 2, 0, 0, 1, 1, 1, 1, 1, 0, 1, 2, 2, 0, 0, 1, 1, 1, 2, 1, 1, 2, 1, 1, 0, 1, 0, 1, 0, 0, 0, 2, 1, 2, 1, 2, 1, 1, 1, 0, 0, 0, 1, 2, 0, 1, 0, 1, 0, 1, 1, 0, 2, 2, 1, 0, 0, 2, 1, 1, 1, 0, 0, 1, 1, 1, 1, 2, 2, 0, 1, 1, 2, 2, 0, 1, 2, 0, 1, 1, 1, 2, 0, 1, 0, 0, 1, 1, 1, 1, 1, 1, 0, 0, 0, 2, 2, 2, 1, 1, 1, 1, 0, 2, 1, 1, 2, 1, 2, 0, 1, 0, 0, 2, 1, 1, 1, 1, 1, 0, 1, 1, 1, 0, 2, 1, 0, 1, 0, 2, 1, 0, 0, 1, 1, 1, 2, 1, 1, 0, 1, 0, 1, 0, 1, 1, 0, 2, 0, 2, 0, 0, 1, 2, 2, 0, 0, 2, 2, 1, 2, 1, 1, 1, 0, 1, 1, 0, 1, 0, 1, 0, 1, 1, 0, 2, 2, 0, 2, 0, 0, 1, 0, 1, 1, 1, 1, 2, 1, 2, 1, 1, 2, 2, 1, 1, 1, 1, 1, 1, 1, 1, 2, 1, 2, 0, 0, 2, 1, 1, 0, 1, 0, 2, 1, 0, 0, 2, 1, 0, 1, 1, 1, 2, 1, 0, 1, 2, 1, 0, 2, 0, 2, 2, 2, 2, 1, 1, 1, 1, 1, 1, 0, 1, 1, 0, 1, 1, 1, 0, 1, 1, 1, 1, 2, 0, 2, 2, 2, 1, 1, 0, 1, 2, 2, 0, 0, 1, 2, 2, 0, 2, 1, 1, 2, 1, 1, 0, 0, 2, 1, 2, 1, 0, 1, 1, 1, 1, 1, 1, 0, 0, 1, 1, 2, 0, 1, 0, 1, 1, 2, 2, 1, 2, 2, 1, 1, 1, 1, 1, 1, 1, 2, 0, 1, 1, 1, 1, 1, 2, 0, 2, 2, 1, 1, 1, 2, 1, 2, 1, 0, 2, 0, 0, 1, 1, 1, 2, 1, 0, 1, 1, 0, 2, 1, 0, 2, 1, 1, 0, 1, 1, 2, 1, 0, 0, 1, 1, 1, 0, 0, 1, 1, 2, 0, 1, 1, 0, 1, 1, 1, 1, 1, 1, 1, 1, 1, 1, 0, 0, 1, 0, 1, 0, 2, 2, 1, 2, 1, 1, 1, 1, 1, 2, 1, 1, 1, 2, 0, 1, 1, 1, 0, 1, 1, 1, 0, 0, 1, 2, 2, 1, 1, 1, 2, 0, 1, 0, 1, 0, 1, 1, 0, 1, 1, 1, 1, 1, 2, 1, 2, 0, 1, 0, 1, 1, 1, 1, 1, 0, 1, 1, 1, 0, 1, 2, 0, 1, 0, 0, 1, 1, 0, 1, 1, 1, 1, 0, 2, 2, 0, 2, 1, 0, 1, 1, 0, 1, 1, 2, 2, 1, 0, 2, 1, 2, 1, 2, 1, 1, 2, 1, 1, 1, 0, 1, 0, 1, 1, 0, 1, 1, 1, 1, 2, 0, 1, 1, 1, 0, 1, 0, 1, 2, 1, 2, 1, 0, 0, 0, 1, 2, 1, 2, 1, 0, 2, 1, 2, 0, 0, 1, 1, 0, 0, 2, 2, 1, 0, 1, 2, 2, 1, 2, 0, 1, 1, 0, 0, 0, 0, 2, 1, 0, 1, 0, 2, 1, 1, 1, 1, 1, 2, 1, 1, 0, 1, 0, 1, 1, 1, 1, 0, 0, 1, 1, 2, 1, 1, 0, 0, 0, 0, 0, 2, 0, 1, 1, 1, 1, 1, 1, 1, 1, 0, 1, 1, 0, 2, 1, 1, 1, 1, 0, 0, 2, 1, 2, 2, 1, 1, 1, 0, 1, 2, 0, 1, 1, 0, 1, 1, 1, 0, 1, 1, 1, 1, 0, 1, 0, 0, 2, 1, 1, 2, 0, 0, 1, 0, 1, 2, 2, 1, 0, 2, 0, 1, 1, 2, 0, 1, 1, 1, 0, 1, 2, 1, 0, 1, 1, 0, 1, 1, 2, 1, 0, 1, 0, 1, 0, 0, 1, 2, 2, 1, 1, 1, 2, 2, 1, 0, 0, 2, 0, 0, 0, 1, 2, 2, 1, 2, 2, 1, 1, 1, 1, 1, 1, 1, 1, 0, 0, 0, 1, 2, 2, 0, 0, 0, 1, 0, 2, 0, 1, 1, 1, 1, 1, 1, 1, 1, 2, 1, 1, 1, 0, 1, 0, 1, 2, 1, 1, 1, 1, 1, 1, 2, 2, 1, 0, 1, 1, 1, 1, 1, 1, 1, 0, 1, 2, 0, 2, 1, 1, 0, 1, 0, 1, 1, 1, 1, 1, 1, 1, 0, 2, 2, 1, 0, 1, 2, 1, 1, 1, 0, 1, 1, 2, 1, 1, 1, 1, 0, 0, 1, 1, 0, 1, 0, 1, 0, 0, 1, 1, 1, 1, 1, 1, 1, 1, 0, 1, 1, 0, 0, 1, 0, 1, 2, 0, 0, 1, 1, 0, 1, 0, 2, 2, 1, 0, 1, 1, 1, 2, 1, 1, 2, 1, 1, 0, 2, 0, 0, 2, 0, 1, 1, 0, 1, 0, 1, 2, 1, 2, 0, 1, 0, 1, 2, 1, 1, 1, 2, 0, 1, 1, 1, 0, 0, 0, 1, 1, 2, 2, 0, 1, 2, 0, 2, 1, 0, 1, 0, 2, 0, 2, 1, 0, 0, 1, 2, 1, 2, 1, 1, 2, 1, 1, 2, 0, 1, 0, 1, 2, 1, 1, 0, 1, 2, 1, 1, 2, 0, 0, 1, 0, 1, 1, 1, 1, 1, 1, 1, 1, 0, 1, 2, 0, 1, 1, 2, 1, 1, 0, 2, 1, 1, 0, 0, 1, 0, 2, 0, 2, 1, 1, 2, 2, 0, 1, 0, 1, 0, 1, 1, 0, 1, 0, 1, 2, 1, 1, 1, 1, 1, 1, 1, 2, 1, 1, 1, 2, 0, 1, 1, 1, 2, 1, 1, 1, 1, 2, 0, 0, 2, 1, 1, 0, 1, 1, 1, 0, 2, 1, 1, 1, 1, 2, 0, 1, 0, 1, 1, 1, 1, 2, 1, 0, 1, 0, 0, 1, 1, 1, 0, 1, 0, 2, 1, 0, 1, 1, 1, 1, 0, 1, 1, 0, 2, 1, 0, 2, 1, 1, 0, 0, 1, 1, 1, 0, 1, 0, 1, 1, 2, 2, 0, 2, 1, 1, 1, 2, 2, 1, 2, 1, 1, 1, 0, 1, 2, 1, 0, 1, 1, 0, 0, 0, 1, 1, 1, 0, 1, 1, 0, 0, 1, 1, 1, 0, 2, 1, 2, 0, 2, 2, 0, 1, 1, 1, 0, 0, 1, 0, 0, 0, 1, 1, 1, 1, 1, 0, 0, 0, 0, 1, 2, 0, 1, 0, 0, 0, 1, 2, 0, 1, 1, 0, 1, 0, 1, 1, 1, 0, 0, 0, 1, 2, 0, 0, 2, 1, 2, 1, 0, 0, 2, 0, 2, 1, 1, 1, 0, 1, 0, 0, 1, 1, 2, 2, 0, 0, 1, 0, 0, 2, 1, 2, 1, 2, 0, 1, 1, 0, 2, 1, 0, 1, 0, 1, 1, 2, 1, 2, 2, 2, 1, 1, 1, 1, 2, 1, 2, 2, 1, 1, 2, 2, 1, 2, 2, 1, 1, 0, 2, 1, 0, 0, 1, 0, 2, 1, 0, 1, 1, 0, 1, 1, 0, 0, 1, 0, 1, 1, 1, 1, 1, 1, 1, 0, 0, 1, 0, 0, 1, 0, 2, 1, 0, 1, 1, 1, 1, 2, 2, 1, 0, 0, 2, 1, 2, 1, 0, 0, 1, 2, 0, 1, 0, 1, 1, 1, 1, 1, 0, 2, 1, 1, 1, 2, 2, 1, 2, 0, 1, 2, 2, 1, 1, 1, 1, 1, 2, 0, 1, 1, 1, 1, 1, 2, 0, 1, 2, 0, 1, 0, 2, 0, 0, 2, 1, 0, 1, 1, 1, 0, 0, 1, 2, 1, 1, 1, 1, 1, 1, 2, 1, 1, 1, 1, 1, 1, 1, 0, 2, 0, 0, 0, 1, 2, 0, 1, 1, 2, 2, 1, 1, 1, 2, 0, 1, 1, 1, 0, 1, 1, 1, 1, 1, 1, 1, 1, 0, 1, 0, 1, 0, 1, 0, 2, 1, 1, 2, 0, 2, 0, 2, 0, 0, 1, 1, 1, 2, 2, 1, 0, 1, 1, 2, 2, 2, 1, 0, 1, 1, 1, 1, 0, 1, 1, 2, 2, 1, 2, 1, 1, 2, 1, 1, 1, 0, 1, 1, 1, 1, 1, 1, 1, 1, 1, 1, 1, 1, 1, 1, 1, 1, 2, 1, 0, 1, 1, 2, 1, 2, 0, 1, 1, 1, 1, 1, 1, 0, 0, 1, 0, 0, 1, 1, 0, 1, 2, 1, 0, 1, 1, 2, 1, 1, 1, 1, 2, 1, 1, 1, 1, 1, 1, 0, 0, 1, 0, 1, 1, 1, 1, 2, 0, 0, 1, 1, 1, 1, 1, 2, 1, 2, 1, 2, 2, 0, 0, 1, 0, 1, 1, 1, 2, 0, 1, 1, 2, 1, 2, 0, 1, 1, 1, 1, 1, 1, 1, 1, 1, 0, 2, 1, 1, 2, 0, 1, 2, 1, 1, 1, 0, 1, 1, 2, 1, 2, 0, 0, 1, 1, 2, 0, 0, 1, 0, 1, 1, 0, 1, 1, 0, 2, 1, 2, 2, 2, 0, 1, 0, 1, 0, 0, 0, 1, 2, 1, 0, 1, 1, 0, 1, 2, 1, 1, 1, 0, 0, 2, 0, 2, 0, 0, 1, 1, 0, 1, 1, 1, 1, 2, 1, 0, 0, 1, 0, 1, 1, 2, 1, 1, 2, 2, 1, 1, 1, 0, 1, 1, 1, 1, 1, 2, 1, 1, 2, 1, 0, 1, 1, 2, 1, 2, 2, 0, 1, 1, 2, 1, 1, 1, 0, 0, 1, 0, 2, 2, 1, 0, 1, 1, 1, 1, 1, 0, 1, 1, 0, 2, 0, 2, 2, 1, 0, 1, 1, 1, 2, 2, 1, 1, 1, 2, 1, 2, 0, 1, 1, 0, 2, 1, 1, 1, 1, 1, 1, 0, 1, 1, 1, 1, 1, 2, 1, 2, 2, 1, 1, 0, 2, 0, 1, 0, 1, 1, 0, 1, 1, 0, 1, 0, 1, 1, 0, 1, 2, 1, 0, 0, 1, 0, 2, 1, 0, 2, 2, 0, 2, 1, 1, 0, 1, 1, 1, 1, 1, 2, 2, 2, 1, 2, 2, 1, 1, 2, 1, 0, 1, 1, 1, 0, 2, 1, 1, 1, 2, 2, 1, 0, 2, 2, 1, 1, 1, 1, 1, 1, 2, 1, 1, 2, 0, 1, 1, 1, 0, 1, 1, 1, 1, 1, 2, 2, 2, 1, 1, 0, 1, 2, 1, 1, 1, 1, 1, 2, 2, 1, 1, 1, 1, 2, 0, 0, 1, 1, 1, 1, 1, 0, 1, 1, 1, 1, 1, 2, 0, 0, 1, 0, 2, 0, 2, 0, 0, 1, 0, 1, 1, 0, 1, 2, 1, 0, 0, 1, 0, 1, 1, 0, 0, 2, 1, 0, 2, 0, 1, 1, 0, 1, 1, 0, 1, 2, 1, 1, 1, 1, 1, 1, 1, 1, 1, 1, 0, 1, 0, 1, 0, 0, 2, 0, 1, 1, 1, 1, 1, 0, 0, 1, 2, 2, 2, 1, 1, 1, 1, 0, 2, 2, 2, 1, 1, 1, 0, 1, 0, 2, 1, 1, 1, 0, 0, 0, 1, 1, 2, 0, 1, 0, 0, 1, 1, 1, 1, 0, 1, 0, 0, 1, 0, 1, 1, 1, 1, 1, 1, 1, 0, 2, 0, 1, 2, 0, 2, 1, 1, 0, 2, 1, 1, 2, 1, 1, 0, 1, 2, 1, 1, 1, 0, 1, 1, 0, 0, 1, 0, 0, 0, 1, 0, 2, 1, 2, 0, 0, 0, 0, 1, 1, 0, 1, 1, 0, 1, 1, 1, 1, 0, 1, 0, 1, 0, 2, 1, 1, 1, 0, 0, 0, 2, 1, 1, 1, 1, 1, 1, 1, 0, 2, 1, 2, 0, 0, 1, 1, 1, 0, 0, 1, 1, 1, 0, 1, 0, 1, 1, 1, 0, 1, 1, 2, 1, 1, 1, 0, 1, 1, 1, 2, 1, 1, 1, 1, 0, 0, 2, 2, 1, 1, 2, 1, 0, 0, 1, 2, 1, 2, 1, 1, 1, 1, 1, 2, 0, 0, 1, 1, 1, 1, 0, 1, 2, 1, 1, 1, 2, 1, 1, 0, 0, 1, 1, 1, 0, 1, 2, 1, 1, 0, 1, 0, 2, 1, 0, 1, 1, 0, 1, 1, 1, 1, 2, 1, 1, 1, 1, 2, 1, 0, 1, 2, 1, 1, 0, 0, 1, 1, 2, 0, 2, 1, 1, 2, 2, 1, 0, 2, 0, 1, 0, 0, 1, 1, 1, 1, 1, 1, 1, 2, 2, 2, 1, 0, 1, 1, 2, 1, 1, 1, 1, 1, 2, 1, 1, 1, 1, 2, 1, 1, 0, 1, 2, 1, 1, 0, 1, 0, 0, 1, 1, 2, 1, 2, 0, 0, 0, 2, 1, 1, 1, 1, 1, 1, 2, 0, 1, 1, 1, 2, 1, 0, 2, 2, 0, 0, 1, 1, 1, 1, 0, 1, 1, 0, 1, 2, 0, 1, 1, 0, 1, 1, 1, 2, 1, 2, 1, 1, 2, 2, 1, 1, 1, 2, 2, 0, 1, 2, 1, 1, 2, 1, 1, 1, 0, 1, 2, 0, 1, 1, 1, 1, 2, 1, 1, 1, 2, 0, 1, 1, 2, 1, 2, 2, 1, 2, 2, 1, 1, 1, 2, 1, 0, 1, 1, 0, 0, 2, 2, 0, 1, 1, 1, 0, 0, 1, 0, 1, 1, 0, 1, 1, 1, 1, 1, 1, 1, 2, 0, 1, 1, 2, 0, 1, 0, 2, 1, 1, 1, 0, 1, 1, 0, 1, 1, 1, 1, 0, 0, 0, 0, 0, 2, 0, 2, 1, 0, 0, 0, 1, 0, 0, 1, 0, 2, 1, 1, 1, 1, 0, 2, 0, 1, 0, 2, 2, 1, 2, 1, 1, 0, 2, 2, 1, 1, 2, 0, 0, 0, 0, 2, 2, 1, 0, 0, 1, 1, 1, 0, 0, 0, 0, 0, 1, 1, 1, 1, 1, 0, 0, 0, 0, 2, 2, 1, 0, 1, 2, 0, 1, 0, 1, 1, 0, 1, 2, 2, 2, 0, 0, 1, 1, 0, 1, 2, 2, 1, 1, 1, 1, 2, 1, 1, 1, 0, 1, 0, 1, 1, 1, 1, 0, 2, 2, 1, 1, 1, 1, 1, 1, 0, 1, 0, 1, 2, 1, 1, 0, 0, 2, 2, 0, 1, 2, 0, 1, 0, 1, 0, 1, 1, 1, 0, 0, 0, 0, 1, 1, 0, 1, 2, 2, 0, 1, 2, 0, 1, 2, 1, 2, 1, 1, 1, 1, 2, 0, 0, 0, 1, 2, 0, 1, 0, 0, 1, 0, 0, 0, 1, 0, 0, 1, 2, 2, 2, 1, 1, 1, 1, 1, 2, 1, 2, 0, 1, 1, 0, 0, 1, 1, 1, 1, 1, 1, 0, 1, 1, 1, 1, 2, 2, 1, 1, 1, 0, 0, 1, 2, 0, 2, 0, 1, 1, 1, 1, 1, 1, 2, 1, 2, 0, 1, 1, 1, 1, 1, 1, 1, 0, 1, 1, 1, 2, 0, 1, 0, 1, 1, 2, 2, 1, 2, 1, 1, 1, 0, 1, 2, 2, 0, 1, 0, 1, 0, 1, 2, 1, 2, 1, 0, 1, 1, 1, 0, 0, 0, 0, 0, 1, 1, 1, 1, 2, 1, 1, 1, 1, 1, 0, 1, 1, 2, 1, 1, 1, 1, 1, 1, 1, 0, 1, 0, 1, 0, 0, 1, 1, 1, 2, 1, 2, 1, 0, 1, 1, 2, 0, 1, 2, 1, 2, 1, 1, 1, 2, 1, 2, 0, 1, 0, 0, 1, 0, 0, 0, 0, 0, 1, 1, 1, 1, 2, 0, 1, 0, 0, 0, 0, 1, 1, 1, 0, 1, 0, 1, 1, 2, 2, 0, 1, 2, 0, 2, 0, 1, 2, 1, 1, 0, 1, 1, 0, 2, 1, 1, 1, 0, 1, 0, 1, 1, 1, 1, 1, 1, 0, 0, 1, 1, 1, 1, 1, 1, 0, 1, 1, 1, 0, 0, 1, 0, 1, 0, 1, 2, 2, 0, 0, 0, 2, 1, 1, 2, 2, 1, 1, 1, 2, 1, 1, 0, 1, 1, 0, 2, 0, 0, 1, 0, 2, 1, 1, 1, 1, 2, 2, 1, 1, 2, 0, 1, 1, 2, 1, 0, 2, 0, 2, 0, 1, 2, 1, 1, 1, 2, 2, 1, 1, 2, 1, 1, 1, 2, 1, 0, 1, 1, 1, 2, 1, 0, 1, 0, 0, 1, 1, 1, 0, 2, 0, 1, 0, 1, 1, 2, 1, 1, 1, 1, 1, 1, 0, 1, 2, 0, 1, 1, 1, 1, 1, 1, 2, 1, 2, 0, 0, 2, 1, 0, 2, 0, 1, 1, 1, 0, 1, 1, 1, 1, 1, 1, 2, 2, 1, 1, 1, 1, 1, 0, 0, 1, 1, 0, 2, 0, 0, 0, 0, 1, 1, 1, 1, 1, 1, 1, 0, 0, 1, 1, 1, 1, 1, 1, 1, 0, 1, 0, 1, 1, 2, 1, 1, 1, 0, 1, 0, 1, 0, 1, 0, 0, 1, 1, 1, 1, 1, 1, 1, 1, 0, 0, 0, 2, 0, 2, 1, 2, 0, 1, 0, 1, 1, 1, 0, 2, 0, 2, 1, 0, 1, 1, 2, 1, 1, 1, 1, 1, 0, 1, 0, 1, 1, 1, 1, 2, 1, 0, 0, 0, 0, 0, 0, 0, 1, 1, 0, 1, 1, 1, 1, 1, 0, 0, 1, 1, 1, 1, 1, 0, 0, 2, 1, 1, 1, 0, 1, 2, 1, 1, 1, 1, 0, 1, 1, 1, 1, 1, 1, 2, 0, 0, 1, 1, 1, 0, 1, 1, 0, 0, 0, 1, 1, 1, 2, 0, 1, 1, 0, 2, 1, 1, 0, 1, 1, 2, 2, 1, 0, 2, 1, 0, 1, 0, 1, 2, 0, 1, 0, 1, 1, 1, 1, 1, 1, 1, 1, 1, 0, 1, 1, 1, 0, 1, 0, 2, 1, 1, 2, 1, 2, 2, 0, 1, 1, 1, 1, 1, 0, 2, 0, 0, 1, 1, 0, 2, 1, 1, 2, 0, 2, 2, 1, 1, 1, 2, 1, 2, 2, 1, 2, 1, 1, 0, 0, 0, 1, 1, 1, 1, 0, 0, 0, 1, 1, 0, 0, 0, 2, 0, 1, 0, 0, 2, 1, 0, 1, 1, 1, 1, 0, 1, 0, 1, 1, 1, 1, 0, 1, 0, 1, 0, 0, 1, 2, 2, 2, 0, 2, 2, 0, 1, 2, 1, 2, 1, 2, 2, 0, 1, 0, 2, 2, 1, 2, 1, 0, 0, 0, 0, 2, 0, 2, 2, 1, 1, 2, 2, 1, 1, 0, 0, 2, 0, 1, 0, 2, 1, 1, 2, 1, 1, 1, 2, 1, 2, 2, 1, 0, 1, 1, 1, 1, 2, 2, 1, 1, 1, 2, 1, 0, 2, 2, 0, 2, 1, 0, 1, 0, 1, 0, 0, 1, 0, 1, 1, 2, 1, 2, 1, 2, 2, 0, 1, 1, 2, 2, 0, 0, 1, 1, 1, 1, 2, 1, 0, 1, 2, 1, 1, 0, 1, 1, 0, 2, 1, 1, 2, 1, 1, 2, 2, 1, 1, 0, 2, 0, 0, 0, 0, 2, 1, 0, 2, 1, 2, 0, 2, 2, 2, 2, 1, 2, 0, 1, 1, 1, 1, 0, 1, 1, 2, 1, 0, 1, 2, 0, 1, 1, 1, 1, 2, 2, 2, 1, 0, 0, 1, 1, 1, 0, 2, 1, 2, 1, 0, 1, 1, 2, 2, 1, 2, 1, 0, 2, 0, 1, 0, 2, 2, 0, 2, 0, 0, 2, 1, 1, 1, 2, 1, 1, 1, 1, 1, 1, 1, 0, 1, 1, 1, 1, 0, 2, 1, 0, 1, 2, 0, 1, 0, 1, 2, 1, 1, 1, 0, 1, 1, 0, 0, 1, 1, 1, 2, 0, 0, 1, 1, 1, 1, 2, 1, 1, 1, 1, 1, 1, 1, 1, 2, 1, 2, 1, 2, 1, 2, 2, 1, 0, 0, 1, 1, 1, 1, 1, 1, 1, 1, 1, 0, 1, 1, 1, 1, 1, 0, 0, 1, 2, 1, 0, 1, 1, 1, 1, 1, 1, 0, 0, 1, 2, 2, 0, 0, 0, 2, 1, 1, 1, 1, 2, 2, 1, 1, 2, 1, 1, 0, 2, 1, 0, 2, 1, 1, 0, 1, 2, 0, 1, 0, 1, 2, 1, 0, 0, 1, 1, 1, 2, 1, 1, 1, 0, 0, 1, 1, 0, 0, 1, 1, 1, 0, 0, 1, 1, 1, 1, 1, 0, 2, 1, 2, 1, 1, 1, 1, 0, 1, 1, 0, 1, 0, 0, 0, 2, 1, 1, 1, 1, 1, 1, 2, 1, 1, 0, 1, 0, 0, 0, 1, 0, 1, 0, 1, 1, 2, 1, 0, 2, 1, 0, 1, 0, 1, 0, 0, 0, 0, 1, 1, 1, 0, 0, 1, 0, 2, 1, 0, 1, 1, 2, 0, 1, 1, 1, 1, 1, 1, 1, 1, 1, 1, 1, 1, 1, 2, 0, 1, 1, 1, 2, 1, 1, 1, 0, 1, 1, 1, 1, 2, 1, 1, 1, 1, 1, 1, 0, 2, 1, 0, 0, 1, 1, 1, 2, 0, 1, 1, 1, 0, 1, 1, 1, 1, 1, 1, 2, 1, 0, 1, 1, 2, 2, 0, 1, 0, 1, 1, 1, 1, 1, 0, 1, 1, 0, 2, 0, 1, 1, 2, 1, 1, 0, 1, 2, 2, 1, 1, 2, 0, 2, 0, 0, 0, 1, 2, 1, 1, 1, 0, 1, 2, 0, 0, 1, 0, 2, 0, 1, 1, 1, 1, 0, 1, 1, 0, 1, 0, 1, 1, 2, 1, 1, 1, 0, 1, 1, 1, 1, 1, 2, 1, 1, 2, 1, 1, 2, 1, 1, 1, 0, 0, 0, 1, 1, 1, 0, 2, 1, 1, 0, 2, 0, 1, 0, 1, 1, 1, 1, 2, 0, 1, 1, 1, 0, 2, 0, 1, 0, 1, 2, 1, 0, 1, 1, 1, 0, 1, 0, 0, 1, 1, 0, 1, 0, 1, 1, 1, 1, 1, 2, 0, 0, 0, 1, 1, 2, 0, 1, 2, 0, 0, 1, 1, 1, 0, 1, 0, 1, 1, 1, 2, 1, 1, 1, 1, 1, 0, 1, 0, 0, 0, 1, 0, 1, 0, 0, 1, 0, 1, 0, 0, 1, 1, 2, 1, 1, 2, 1, 1, 1, 0, 1, 1, 1, 2, 0, 2, 1, 2, 1, 1, 2, 1, 0, 0, 2, 1, 0, 1, 2, 1, 2, 0, 1, 1, 1, 2, 1, 2, 2, 2, 1, 1, 1, 2, 2, 1, 1, 1, 0, 1, 1, 2, 1, 0, 0, 0, 1, 0, 1, 0, 1, 0, 1, 0, 2, 1, 1, 1, 2, 2, 0, 2, 1, 1, 0, 1, 2, 1, 2, 1, 0, 2, 1, 1, 2, 1, 1, 1, 1, 1, 1, 1, 1, 1, 1, 1, 1, 1, 2, 0, 1, 1, 1, 2, 0, 1, 1, 1, 1, 1, 2, 1, 1, 1, 2, 1, 1, 1, 0, 0, 1, 1, 1, 1, 0, 0, 1, 0, 1, 0, 2, 1, 0, 2, 2, 1, 1, 1, 1, 1, 1, 2, 2, 1, 0, 2, 2, 1, 1, 2, 2, 0, 1, 1, 1, 1, 2, 1, 1, 1, 1, 1, 0, 0, 2, 0, 1, 1, 0, 0, 2, 1, 1, 0, 1, 1, 0, 2, 2, 1, 2, 1, 1, 2, 1, 1, 1, 1, 2, 0, 1, 0, 1, 0, 1, 1, 2, 0, 2, 0, 1, 1, 2, 0, 2, 1, 1, 1, 1, 1, 1, 0, 1, 0, 1, 2, 2, 1, 0, 1, 1, 1, 0, 1, 2, 2, 0, 2, 1, 0, 1, 0, 0, 0, 1, 1, 0, 0, 2, 1, 0, 1, 2, 2, 0, 1, 0, 2, 0, 1, 0, 0, 1, 2, 2, 1, 0, 1, 0, 1, 1, 1, 0, 1, 1, 1, 1, 1, 2, 0, 1, 1, 2, 1, 0, 1, 2, 0, 1, 1, 1, 0, 1, 1, 0, 0, 1, 1, 1, 1, 2, 1, 1, 0, 2, 1, 0, 2, 1, 1, 0, 2, 0, 0, 1, 0, 1, 0, 1, 0, 1, 1, 1, 1, 1, 1, 2, 0, 2, 1, 1, 1, 1, 0, 0, 0, 1, 0, 1, 1, 2, 1, 0, 1, 1, 2, 1, 0, 0, 1, 1, 0, 0, 0, 1, 2, 1, 0, 1, 0, 1, 0, 2, 1, 0, 1, 0, 1, 0, 0, 0, 1, 1, 0, 1, 1, 1, 1, 1, 1, 1, 1, 1, 0, 1, 1, 0, 2, 1, 1, 2, 2, 0, 0, 2, 1, 0, 0, 1, 1, 0, 1, 0, 1, 2, 0, 1, 2, 0, 1, 0, 2, 0, 1, 1, 0, 0, 0, 1, 1, 1, 0, 2, 1, 1, 2, 0, 1, 0, 1, 1, 1, 0, 1, 1, 1, 1, 1, 1, 0, 0, 0, 0, 2, 1, 1, 1, 1, 1, 1, 2, 0, 2, 0, 1, 1, 2, 0, 2, 1, 1, 1, 1, 2, 1, 1, 0, 1, 0, 0, 1, 2, 1, 2, 1, 0, 1, 0, 2, 0, 1, 2, 2, 2, 1, 1, 1, 0, 1, 0, 1, 0, 0, 1, 1, 1, 1, 0, 0, 1, 1, 0, 1, 1, 2, 1, 0, 1, 1, 1, 1, 1, 1, 1, 1, 2, 1, 1, 1, 1, 2, 1, 1, 2, 0, 2, 1, 1, 0, 1, 0, 0, 1, 1, 1, 0, 0, 2, 2, 2, 1, 0, 2, 1, 0, 2, 1, 1, 1, 1, 1, 1, 2, 1, 0, 1, 0, 2, 1, 0, 0, 0, 1, 1, 2, 0, 0, 1, 1, 1, 0, 2, 0, 0, 1, 0, 0, 0, 2, 0, 0, 1, 0, 1, 0, 1, 1, 2, 1, 2, 1, 1, 1, 0, 1, 2, 1, 2, 1, 1, 1, 2, 2, 2, 1, 1, 1, 2, 0, 0, 1, 1, 1, 1, 0, 2, 0, 1, 1, 0, 0, 2, 1, 1, 1, 1, 0, 1, 1, 1, 1, 1, 1, 1, 2, 1, 1, 0, 1, 0, 1, 0, 1, 0, 1, 0, 1, 2, 0, 1, 1, 1, 1, 0, 2, 0, 1, 0, 1, 0, 2, 0, 1, 0, 1, 1, 2, 1, 2, 1, 2, 1, 1, 0, 1, 1, 1, 2, 0, 0, 1, 2, 0, 1, 0, 1, 0, 1, 0, 2, 1, 1, 1, 0, 1, 1, 1, 2, 1, 1, 1, 2, 0, 2, 1, 1, 0, 1, 0, 1, 0, 1, 1, 2, 1, 0, 1, 1, 0, 1, 2, 1, 0, 1, 1, 1, 0, 2, 1, 1, 1, 0, 2, 1, 0, 0, 1, 0, 2, 1, 0, 1, 2, 2, 1, 1, 1, 1, 1, 2, 1, 2, 1, 2, 2, 1, 1, 1, 1, 1, 1, 1, 1, 2, 1, 1, 1, 0, 1, 0, 0, 1, 1, 1, 1, 1, 1, 1, 2, 2, 1, 1, 0, 1, 1, 1, 1, 0, 0, 2, 2, 1, 1, 1, 2, 2, 1, 1, 2, 2, 1, 0, 1, 0, 1, 1, 2, 1, 1, 2, 1, 1, 1, 1, 0, 0, 0, 1, 2, 1, 0, 2, 1, 1, 1, 1, 0, 1, 1, 0, 0, 1, 0, 1, 1, 2, 2, 0, 1, 2, 2, 0, 1, 0, 1, 2, 0, 1, 1, 0, 0, 1, 1, 1, 1, 1, 1, 0, 0, 1, 1, 0, 2, 1, 1, 1, 1, 1, 0, 1, 1, 1, 0, 1, 1, 1, 1, 0, 0, 1, 1, 1, 1, 1, 0, 0, 1, 0, 1, 0, 0, 1, 1, 1, 0, 2, 1, 0, 0, 1, 2, 2, 1, 2, 1, 1, 1, 1, 1, 0, 1, 1, 2, 1, 1, 2, 0, 1, 2, 2, 2, 1, 1, 1, 0, 1, 0, 0, 1, 2, 1, 1, 0, 1, 1, 2, 0, 0, 0, 1, 2, 1, 0, 1, 0, 0, 1, 0, 1, 2, 1, 2, 2, 2, 1, 0, 1, 1, 1, 1, 0, 1, 1, 1, 1, 1, 1, 0, 1, 1, 2, 2, 1, 1, 1, 0, 0, 2, 1, 2, 2, 2, 1, 1, 1, 1, 0, 1, 1, 1, 1, 1, 1, 1, 1, 1, 1, 1, 0, 2, 1, 1, 1, 0, 1, 1, 1, 0, 0, 1, 1, 1, 2, 1, 0, 2, 1, 1, 1, 1, 1, 2, 1, 1, 0, 0, 1, 2, 0, 2, 2, 1, 0, 1, 1, 2, 1, 1, 1, 1, 1, 1, 2, 0, 2, 1, 2, 2, 1, 1, 1, 1, 1, 2, 1, 0, 1, 2, 0, 1, 1, 1, 1, 0, 1, 1, 0, 1, 1, 0, 2, 0, 2, 1, 1, 1, 0, 0, 2, 1, 1, 0, 1, 1, 0, 2, 2, 1, 1, 1, 0, 1, 0, 0, 1, 1, 1, 1, 1, 1, 1, 0, 1, 1, 1, 1, 2, 1, 2, 1, 1, 1, 1, 2, 1, 1, 2, 1, 1, 1, 2, 1, 1, 1, 2, 2, 0, 0, 1, 1, 1, 2, 1, 0, 1, 0, 0, 1, 1, 1, 2, 2, 0, 1, 1, 1, 1, 2, 1, 0, 1, 1, 1, 1, 2, 1, 1, 1, 0, 0, 1, 0, 0, 0, 1, 1, 2, 1, 0, 1, 1, 1, 1, 0, 0, 2, 0, 1, 1, 1, 1, 1, 0, 1, 1, 1, 1, 1, 2, 0, 0, 1, 2, 0, 1, 1, 2, 1, 1, 2, 1, 1, 2, 1, 1, 1, 0, 1, 1, 1, 2, 1, 1, 1, 0, 1, 0, 1, 0, 1, 0, 0, 1, 1, 2, 0, 0, 2, 1, 1, 1, 0, 1, 1, 0, 0, 1, 1, 1, 0, 1, 0, 1, 1, 1, 1, 0, 0, 2, 0, 1, 0, 0, 0, 1, 1, 1, 1, 1, 2, 0, 1, 2, 1, 1, 2, 0, 1, 1, 0, 0, 0, 0, 1, 1, 0, 1, 1, 1, 2, 0, 1, 1, 0, 1, 1, 1, 1, 1, 1, 1, 0, 0, 1, 2, 0, 0, 1, 0, 1, 1, 1, 1, 1, 1, 1, 2, 2, 1, 1, 0, 0, 1, 2, 1, 0, 0, 1, 2, 0, 2, 1, 0, 0, 0, 1, 1, 1, 1, 1, 0, 1, 1, 1, 0, 2, 2, 1, 2, 0, 0, 1, 1, 2, 1, 2, 0, 1, 1, 1, 1, 0, 0, 1, 1, 1, 0, 1, 1, 2, 0, 0, 2, 1, 0, 1, 2, 1, 1, 0, 2, 0, 1, 0, 0, 1, 2, 1, 1, 1, 1, 1, 1, 1, 1, 0, 0, 1, 1, 2, 1, 1, 1, 1, 1, 0, 1, 1, 0, 1, 2, 1, 0, 0, 0, 2, 0, 1, 1, 1, 2, 1, 1, 0, 1, 1, 0, 1, 1, 1, 1, 1, 0, 0, 2, 0, 1, 1, 1, 1, 2, 2, 1, 1, 1, 0, 0, 1, 2, 0, 0, 1, 1, 0, 1, 2, 2, 1, 1, 1, 1, 1, 0, 1, 1, 0, 1, 1, 1, 0, 1, 0, 1, 1, 1, 1, 1, 0, 0, 1, 1, 0, 1, 2, 0, 0, 0, 1, 0, 0, 0, 1, 0, 0, 0, 1, 1, 1, 1, 0, 0, 0, 1, 1, 2, 1, 0, 1, 1, 1, 1, 2, 1, 1, 2, 2, 1, 0, 1, 1, 1, 2, 1, 1, 0, 1, 1, 0, 1, 1, 2, 0, 1, 1, 1, 2, 0, 2, 2, 0, 0, 0, 0, 2, 2, 2, 1, 2, 0, 0, 2, 1, 1, 1, 1, 0, 1, 1, 1, 1, 2, 1, 1, 0, 2, 2, 1, 0, 1, 0, 1, 1, 0, 1, 0, 1, 2, 1, 0, 1, 2, 1, 2, 1, 1, 1, 0, 2, 1, 0, 1, 0, 0, 1, 1, 1, 2, 1, 0, 0, 1, 1, 0, 1, 2, 1, 2, 1, 0, 1, 0, 1, 1, 1, 1, 1, 2, 2, 1, 2, 2, 2, 1, 2, 1, 1, 1, 0, 1, 1, 1, 1, 1, 1, 2, 1, 1, 1, 2, 1, 0, 1, 0, 0, 2, 0, 1, 0, 0, 1, 0, 0, 0, 0, 1, 2, 1, 1, 1, 2, 0, 1, 1, 2, 1, 1, 0, 0, 1, 1, 1, 1, 1, 0, 1, 0, 1, 1, 2, 1, 1, 1, 0, 2, 2, 2, 2, 1, 1, 1, 1, 1, 0, 2, 0, 0, 1, 1, 1, 1, 0, 0, 0, 1, 1, 1, 1, 1, 2, 1, 1, 1, 1, 1, 2, 0, 1, 1, 1, 1, 1, 1, 1, 1, 2, 1, 1, 0, 1, 0, 1, 1, 1, 2, 0, 1, 1, 0, 2, 1, 1, 0, 0, 0, 1, 0, 1, 2, 2, 1, 1, 2, 2, 2, 2, 2, 0, 0, 1, 0, 2, 0, 2, 1, 0, 2, 0, 0, 0, 2, 1, 1, 1, 1, 1, 1, 1, 0, 1, 0, 0, 1, 0, 0, 2, 1, 1, 0, 2, 1, 2, 1, 0, 1, 1, 1, 0, 1, 1, 1, 1, 0, 1, 1, 2, 1, 1, 1, 1, 1, 1, 1, 0, 0, 2, 1, 0, 1, 1, 1, 1, 1, 0, 1, 1, 1, 2, 2, 2, 1, 0, 2, 1, 2, 1, 1, 2, 0, 2, 1, 1, 0, 2, 0, 2, 1, 2, 1, 1, 0, 1, 1, 1, 0, 1, 0, 0, 0, 1, 1, 1, 1, 1, 1, 1, 1, 2, 1, 1, 1, 0, 1, 1, 1, 0, 1, 1, 0, 0, 1, 1, 1, 1, 0, 2, 1, 1, 2, 2, 2, 0, 2, 0, 1, 1, 0, 1, 1, 1, 2, 1, 1, 0, 1, 0, 1, 1, 1, 0, 1, 1, 0, 2, 2, 1, 0, 1, 1, 1, 1, 2, 0, 0, 0, 1, 1, 1, 2, 1, 0, 1, 1, 0, 1, 2, 1, 1, 1, 2, 1, 2, 0, 1, 1, 0, 0, 0, 2, 1, 0, 2, 2, 1, 2, 2, 1, 0, 1, 2, 1, 2, 0, 1, 2, 1, 1, 2, 1, 0, 0, 2, 1, 2, 2, 1, 1, 0, 1, 2, 0, 0, 1, 1, 1, 1, 1, 2, 1, 0, 1, 0, 1, 1, 1, 2, 1, 1, 1, 1, 1, 1, 1, 2, 0, 1, 1, 2, 1, 0, 1, 2, 1, 1, 1, 1, 1, 1, 2, 1, 0, 1, 0, 0, 1, 2, 2, 2, 2, 0, 1, 1, 0, 0, 1, 1, 1, 1, 1, 1, 0, 1, 1, 0, 1, 2, 1, 1, 0, 0, 1, 1, 1, 2, 1, 1, 2, 2, 2, 2, 2, 1, 1, 0, 1, 1, 2, 0, 1, 1, 0, 0, 1, 1, 1, 2, 2, 1, 1, 2, 1, 1, 1, 1, 1, 1, 1, 1, 1, 1, 2, 1, 1, 1, 1, 1, 0, 0, 1, 1, 2, 0, 1, 1, 0, 1, 1, 1, 1, 1, 0, 1, 2, 2, 1, 1, 2, 2, 2, 1, 2, 1, 1, 1, 2, 0, 0, 1, 1, 0, 1, 1, 1, 1, 0, 1, 2, 1, 0, 1, 0, 2, 2, 2, 1, 1, 1, 0, 0, 1, 2, 2, 1, 0, 1, 0, 1, 1, 1, 1, 1, 0, 0, 0, 0, 2, 1, 0, 1, 0, 0, 2, 1, 1, 1, 2, 0, 1, 1, 1, 1, 2, 0, 1, 0, 2, 1, 1, 2, 1, 1, 2, 0, 0, 2, 1, 1, 1, 1, 2, 1, 1, 2, 1, 1, 1, 1, 2, 2, 1, 1, 0, 2, 0, 1, 2, 2, 1, 1, 0, 1, 1, 1, 1, 1, 0, 1, 1, 0, 0, 0, 1, 2, 1, 2, 1, 2, 1, 1, 1, 1, 1, 1, 2, 2, 1, 0, 1, 0, 1, 2, 2, 0, 1, 1, 1, 2, 0, 1, 0, 1, 1, 0, 1, 2, 1, 1, 1, 1, 2, 1, 2, 0, 0, 0, 1, 1, 1, 1, 1, 1, 0, 1, 1, 1, 1, 2, 1, 1, 1, 1, 0, 1, 1, 0, 1, 1, 1, 0, 1, 1, 0, 1, 2, 1, 1, 2, 1, 1, 0, 1, 2, 0, 1, 0, 1, 1, 1, 2, 1, 0, 2, 1, 2, 1, 1, 1, 0, 2, 1, 2, 1, 1, 0, 2, 0, 2, 1, 1, 1, 1, 1, 1, 0, 1, 1, 2, 0, 0, 0, 1, 2, 1, 1, 0, 1, 2, 2, 2, 0, 0, 1, 1, 2, 2, 2, 1, 1, 1, 1, 2, 0, 1, 1, 1, 1, 1, 1, 1, 1, 1, 0, 2, 1, 2, 1, 1, 1, 1, 1, 0, 0, 1, 2, 1, 1, 1, 1, 1, 1, 1, 1, 0, 1, 1, 0, 0, 2, 0, 1, 0, 1, 1, 0, 1, 1, 0, 1, 0, 0, 1, 1, 1, 1, 2, 0, 0, 1, 1, 0, 0, 1, 2, 1, 0, 2, 1, 0, 0, 1, 0, 0, 0, 1, 1, 0, 2, 1, 1, 1, 2, 2, 1, 1, 0, 1, 1, 1, 0, 2, 0, 1, 1, 0, 1, 2, 2, 1, 0, 0, 1, 2, 0, 1, 1, 1, 1, 0, 1, 0, 2, 0, 1, 1, 1, 0, 1, 1, 0, 1, 2, 0, 2, 2, 1, 2, 1, 1, 1, 1, 1, 1, 1, 1, 1, 1, 1, 1, 1, 1, 2, 1, 0, 0, 1, 1, 1, 0, 0, 0, 1, 0, 0, 2, 1, 1, 1, 1, 1, 0, 1, 1, 0, 1, 1, 1, 1, 2, 1, 2, 1, 1, 0, 1, 1, 0, 1, 0, 0, 1, 0, 1, 1, 2, 0, 1, 1, 1, 2, 0, 1, 1, 1, 2, 1, 1, 1, 2, 2, 1, 1, 2, 1, 2, 1, 2, 2, 1, 1, 1, 2, 0, 2, 2, 0, 2, 1, 0, 0, 1, 1, 1, 1, 0, 1, 1, 0, 2, 0, 0, 0, 1, 2, 1, 1, 0, 1, 0, 1, 1, 2, 1, 1, 0, 0, 1, 1, 1, 1, 0, 1, 2, 1, 2, 0, 1, 0, 1, 1, 1, 1, 2, 1, 1, 1, 1, 1, 1, 1, 0, 1, 0, 1, 1, 0, 2, 1, 0, 1, 1, 1, 1, 1, 0, 1, 0, 1, 0, 1, 2, 1, 1, 2, 1, 1, 0, 0, 2, 1, 2, 1, 1, 1, 1, 1, 0, 0, 0, 1, 0, 1, 1, 1, 2, 2, 0, 0, 1, 2, 2, 1, 1, 0, 1, 1, 0, 2, 0, 2, 1, 1, 1, 1, 1, 0, 1, 1, 2, 1, 0, 1, 2, 1, 2, 1, 0, 0, 1, 1, 1, 1, 0, 0, 1, 0, 1, 2, 2, 1, 2, 1, 0, 1, 0, 2, 2, 1, 2, 1, 0, 1, 2, 1, 2, 1, 1, 1, 0, 1, 0, 1, 2, 2, 0, 0, 0, 2, 1, 1, 0, 1, 1, 1, 0, 0, 2, 1, 2, 1, 2, 1, 2, 1, 1, 1, 1, 2, 1, 1, 1, 1, 0, 1, 0, 1, 1, 1, 1, 1, 1, 2, 1, 1, 0, 1, 1, 1, 1, 1, 0, 1, 1, 1, 2, 0, 1, 0, 1, 2, 2, 0, 0, 0, 1, 1, 0, 1, 0, 0, 1, 0, 1, 0, 2, 1, 0, 2, 1, 0, 1, 2, 0, 0, 1, 1, 1, 2, 0, 0, 1, 0, 0, 1, 2, 1, 1, 2, 1, 1, 1, 0, 0, 0, 2, 2, 1, 1, 1, 1, 0, 0, 1, 0, 0, 1, 0, 0, 0, 1, 1, 0, 1, 0, 0, 1, 1, 1, 1, 2, 1, 1, 2, 0, 0, 1, 2, 1, 0, 1, 2, 1, 0, 1, 0, 0, 1, 2, 0, 1, 2, 0, 2, 2, 1, 1, 1, 1, 2, 1, 0, 1, 2, 1, 0, 0, 1, 1, 0, 1, 1, 2, 1, 0, 0, 1, 1, 2, 1, 2, 1, 1, 1, 1, 1, 1, 1, 2, 1, 0, 1, 1, 0, 1, 0, 0, 1, 0, 2, 2, 2, 2, 1, 0, 0, 1, 0, 1, 0, 0, 0, 1, 0, 0, 1, 0, 2, 1, 1, 1, 1, 2, 2, 2, 0, 1, 0, 2, 1, 1, 1, 0, 1, 2, 2, 1, 0, 1, 2, 0, 0, 0, 2, 1, 0, 1, 1, 1, 1, 2, 1, 2, 0, 1, 1, 1, 0, 2, 1, 1, 0, 1, 0, 0, 2, 1, 0, 1, 1, 1, 1, 1, 1, 1, 1, 1, 2, 2, 1, 1, 1, 2, 1, 0, 2, 2, 1, 1, 0, 0, 2, 0, 0, 0, 1, 1, 2, 2, 1, 0, 1, 2, 1, 0, 2, 1, 1, 2, 0, 0, 1, 0, 1, 0, 1, 1, 1, 0, 0, 0, 1, 2, 1, 2, 0, 1, 1, 2, 2, 2, 0, 1, 0, 0, 2, 2, 1, 2, 0, 1, 1, 0, 0, 0, 0, 0, 1, 1, 1, 0, 1, 1, 0, 0, 1, 0, 1, 1, 1, 2, 1, 2, 2, 2, 1, 0, 1, 1, 0, 1, 0, 1, 2, 2, 1, 1, 1, 2, 1, 2, 0, 0, 1, 1, 1, 1, 0, 0, 1, 1, 0, 2, 1, 1, 0, 0, 0, 0, 1, 1, 2, 1, 1, 1, 2, 2, 0, 2, 2, 1, 1, 0, 1, 2, 1, 0, 1, 1, 1, 0, 2, 2, 1, 1, 1, 2, 1, 1, 0, 2, 0, 1, 1, 1, 0, 2, 0, 1, 2, 0, 1, 1, 1, 2, 2, 1, 1, 1, 1, 2, 0, 0, 0, 1, 1, 0, 0, 1, 0, 1, 1, 1, 1, 1, 0, 0, 1, 0, 1, 1, 1, 1, 1, 1, 1, 2, 1, 1, 0, 2, 1, 0, 2, 1, 2, 0, 1, 2, 0, 0, 1, 2, 1, 1, 1, 1, 2, 2, 0, 0, 2, 0, 1, 1, 1, 1, 2, 1, 1, 0, 2, 1, 1, 1, 1, 1, 1, 0, 2, 1, 1, 0, 1, 2, 1, 0, 1, 1, 0, 1, 1, 0, 2, 1, 1, 2, 1, 1, 1, 1, 1, 0, 0, 0, 0, 1, 1, 0, 1, 2, 1, 1, 2, 1, 0, 1, 1, 1, 0, 0, 2, 0, 0, 1, 1, 0, 1, 2, 1, 1, 1, 1, 1, 1, 1, 1, 1, 1, 1, 0, 0, 0, 1, 1, 1, 0, 1, 1, 2, 1, 0, 0, 1, 0, 0, 2, 0, 0, 1, 1, 1, 1, 1, 0, 1, 0, 2, 1, 1, 2, 1, 1, 0, 1, 0, 1, 1, 1, 1, 0, 1, 0, 1, 0, 0, 0, 2, 1, 1, 1, 1, 2, 2, 0, 1, 1, 1, 2, 1, 1, 1, 1, 0, 2, 0, 2, 0, 0, 1, 1, 1, 1, 1, 1, 1, 1, 0, 1, 0, 2, 1, 1, 0, 0, 1, 1, 0, 1, 1, 1, 0, 2, 0, 0, 2, 0, 2, 1, 1, 1, 1, 1, 2, 0, 1, 0, 1, 1, 1, 1, 1, 2, 2, 1, 1, 0, 1, 1, 1, 0, 2, 1, 0, 1, 1, 1, 1, 2, 1, 0, 1, 2, 2, 2, 1, 0, 0, 0, 0, 1, 1, 2, 2, 2, 1, 1, 1, 1, 0, 1, 2, 2, 1, 1, 2, 1, 1, 0, 2, 0, 0, 1, 0, 0, 1, 1, 0, 0, 2, 0, 2, 1, 1, 0, 1, 2, 1, 1, 2, 1, 1, 2, 0, 1, 1, 1, 2, 2, 1, 1, 2, 1, 1, 1, 1, 0, 1, 2, 0, 1, 2, 1, 0, 1, 1, 0, 1, 1, 0, 0, 2, 1, 0, 2, 2, 0, 0, 0, 2, 1, 0, 1, 1, 1, 0, 0, 2, 1, 0, 0, 1, 2, 1, 1, 2, 1, 0, 0, 1, 1, 1, 2, 0, 1, 1, 2, 1, 2, 1, 0, 1, 0, 0, 2, 2, 1, 1, 0, 1, 0, 0, 2, 1, 0, 1, 2, 1, 1, 1, 2, 1, 0, 1, 1, 2, 1, 2, 2, 2, 2, 2, 2, 1, 1, 0, 1, 1, 2, 2, 1, 1, 0, 2, 0, 1, 1, 0, 1, 1, 2, 0, 1, 1, 2, 0, 1, 2, 1, 1, 1, 0, 2, 0, 1, 1, 1, 1, 1, 1, 1, 0, 1, 0, 1, 1, 0, 2, 1, 1, 0, 0, 0, 2, 0, 2, 1, 1, 1, 1, 0, 2, 2, 0, 1, 1, 1, 0, 0, 0, 1, 2, 1, 1, 0, 1, 1, 0, 2, 1, 0, 0, 0, 1, 1, 1, 0, 1, 0, 2, 0, 1, 0, 2, 0, 1, 1, 1, 1, 0, 0, 2, 1, 0, 1, 1, 1, 1, 1, 1, 1, 1, 0, 0, 0, 0, 1, 2, 1, 0, 0, 2, 1, 1, 2, 1, 2, 2, 1, 0, 0, 1, 1, 1, 1, 2, 1, 2, 2, 1, 1, 2, 0, 1, 1, 0, 1, 1, 1, 1, 1, 1, 0, 1, 2, 1, 1, 1, 1, 2, 1, 2, 0, 2, 1, 1, 1, 2, 0, 1, 1, 1, 2, 0, 1, 0, 1, 1, 1, 0, 1, 0, 1, 1, 2, 1, 1, 0, 0, 0, 0, 1, 1, 1, 0, 0, 1, 1, 2, 1, 2, 1, 1, 0, 2, 1, 1, 0, 1, 1, 1, 1, 1, 1, 1, 1, 0, 2, 0, 1, 0, 2, 0, 1, 2, 1, 2, 1, 1, 0, 1, 1, 2, 1, 0, 1, 0, 0, 0, 1, 2, 1, 1, 1, 1, 1, 0, 1, 0, 1, 1, 1, 2, 1, 1, 1, 1, 0, 2, 1, 0, 1, 2, 0, 2, 2, 0, 0, 1, 2, 1, 1, 1, 2, 1, 0, 1, 2, 1, 1, 1, 0, 0, 1, 1, 0, 1, 1, 1, 2, 0, 1, 2, 1, 1, 1, 1, 1, 1, 0, 2, 1, 1, 1, 0, 1, 1, 0, 0, 2, 1, 1, 2, 2, 1, 1, 1, 1, 0, 1, 1, 0, 2, 2, 1, 0, 0, 1, 1, 0, 1, 1, 0, 1, 0, 1, 0, 2, 2, 0, 1, 1, 2, 2, 1, 2, 0, 1, 0, 1, 2, 1, 0, 1, 0, 1, 2, 1, 1, 2, 1, 1, 2, 0, 1, 2, 0, 1, 2, 2, 2, 1, 2, 1, 2, 1, 1, 1, 1, 1, 0, 2, 2, 2, 1, 1, 1, 0, 2, 0, 0, 2, 0, 1, 1, 2, 0, 2, 1, 0, 0, 0, 0, 2, 0, 0, 1, 1, 1, 1, 1, 1, 1, 1, 1, 1, 0, 1, 1, 0, 1, 0, 1, 1, 0, 2, 0, 0, 1, 0, 0, 1, 1, 2, 1, 1, 1, 0, 1, 0, 1, 2, 1, 1, 1, 1, 2, 1, 1, 1, 1, 1, 1, 1, 0, 0, 1, 0, 0, 0, 1, 1, 1, 1, 0, 1, 0, 1, 1, 1, 1, 2, 1, 0, 0, 1, 0, 1, 0, 1, 0, 0, 0, 2, 0, 1, 1, 0, 1, 1, 0, 1, 1, 0, 1, 0, 2, 1, 1, 1, 0, 1, 0, 1, 2, 0, 1, 1, 0, 0, 1, 1, 0, 0, 1, 0, 1, 0, 2, 0, 1, 1, 0, 2, 2, 0, 0, 1, 1, 1, 0, 0, 0, 0, 2, 1, 2, 0, 1, 0, 2, 0, 1, 2, 1, 1, 1, 2, 1, 1, 0, 1, 0, 1, 0, 1, 0, 2, 0, 1, 2, 0, 2, 2, 1, 1, 0, 1, 0, 0, 0, 1, 1, 1, 0, 0, 2, 1, 1, 1, 0, 2, 1, 2, 0, 1, 2, 1, 1, 1, 0, 1, 1, 2, 1, 1, 1, 1, 2, 1, 2, 1, 2, 0, 0, 0, 1, 1, 2, 2, 1, 2, 1, 2, 2, 1, 1, 1, 1, 1, 0, 1, 0, 1, 1, 0, 1, 1, 0, 1, 1, 2, 1, 0, 0, 1, 0, 1, 0, 2, 1, 0, 1, 0, 1, 0, 2, 2, 1, 0, 2, 0, 1, 1, 1, 2, 0, 1, 2, 2, 0, 1, 0, 0, 1, 1, 1, 0, 1, 2, 1, 1, 1, 1, 0, 1, 1, 1, 1, 0, 1, 2, 0, 1, 0, 2, 1, 2, 1, 0, 1, 1, 1, 1, 0, 2, 2, 1, 1, 1, 1, 2, 2, 2, 1, 1, 1, 0, 1, 1, 0, 2, 0, 2, 1, 2, 1, 0, 2, 1, 1, 0, 1, 1, 0, 2, 1, 1, 1, 0, 1, 0, 1, 1, 1, 1, 1, 2, 0, 2, 2, 1, 1, 1, 2, 1, 0, 0, 1, 0, 0, 1, 0, 0, 1, 1, 2, 2, 2, 1, 0, 1, 2, 0, 1, 2, 2, 1, 0, 1, 1, 1, 2, 1, 1, 1, 1, 0, 0, 1, 2, 2, 0, 0, 2, 1, 1, 0, 2, 0, 0, 0, 1, 1, 1, 1, 2, 1, 1, 2, 2, 0, 1, 1, 1, 2, 1, 1, 0, 1, 1, 1, 1, 2, 1, 1, 0, 0, 1, 1, 1, 1, 0, 1, 1, 1, 0, 2, 1, 1, 1, 2, 0, 1, 1, 2, 1, 2, 1, 1, 1, 0, 2, 1, 1, 2, 1, 1, 1, 1, 0, 1, 1, 2, 0, 1, 0, 0, 2, 0, 2, 0, 0, 1, 1, 0, 1, 1, 1, 2, 0, 1, 1, 1, 1, 1, 2, 1, 0, 1, 2, 1, 1, 2, 1, 2, 0, 2, 2, 1, 1, 0, 1, 2, 0, 1, 1, 1, 0, 1, 0, 0, 0, 2, 1, 1, 0, 0, 0, 1, 1, 1, 1, 0, 0, 1, 1, 1, 0, 1, 1, 1, 1, 1, 2, 0, 1, 1, 2, 0, 0, 0, 1, 1, 0, 0, 1, 1, 1, 1, 0, 1, 0, 0, 0, 0, 0, 0, 1, 0, 0, 1, 1, 1, 1, 0, 0, 1, 1, 2, 1, 1, 2, 0, 1, 1, 1, 1, 1, 0, 1, 1, 0, 1, 1, 1, 1, 0, 1, 1, 0, 1, 1, 0, 0, 1, 0, 0, 1, 2, 1, 2, 1, 1, 1, 0, 0, 1, 1, 2, 2, 1, 1, 0, 1, 1, 1, 1, 1, 0, 1, 2, 1, 1, 1, 1, 2, 1, 1, 0, 1, 1, 2, 1, 0, 1, 1, 1, 1, 2, 1, 2, 1, 0, 0, 1, 1, 2, 1, 2, 1, 1, 0, 1, 0, 1, 0, 1, 1, 2, 1, 1, 1, 2, 1, 0, 1, 1, 1, 2, 1, 2, 1, 1, 0, 2, 2, 0, 2, 1, 2, 1, 1, 0, 2, 1, 2, 1, 1, 1, 1, 1, 1, 0, 2, 0, 2, 0, 1, 1, 0, 1, 1, 1, 1, 2, 0, 0, 0, 1, 1, 2, 1, 1, 1, 1, 1, 1, 1, 2, 1, 2, 2, 1, 1, 0, 2, 2, 0, 0, 2, 1, 2, 2, 1, 1, 2, 1, 2, 1, 1, 2, 2, 1, 0, 1, 0, 1, 1, 1, 0, 2, 0, 1, 2, 1, 1, 2, 0, 1, 2, 1, 1, 2, 0, 2, 0, 2, 1, 1, 1, 1, 2, 1, 2, 1, 1, 2, 0, 1, 1, 1, 1, 1, 1, 2, 0, 2, 2, 1, 1, 1, 1, 1, 0, 1, 1, 1, 0, 1, 2, 1, 0, 1, 1, 1, 0, 0, 1, 2, 1, 1, 1, 1, 2, 1, 1, 1, 1, 0, 1, 1, 1, 2, 1, 1, 2, 0, 0, 1, 2, 0, 1, 1, 1, 1, 0, 0, 0, 1, 1, 0, 1, 2, 1, 2, 2, 1, 1, 0, 2, 1, 2, 2, 1, 2, 2, 1, 1, 1, 1, 1, 0, 0, 1, 1, 0, 1, 1, 1, 2, 2, 1, 1, 1, 2, 1, 0, 2, 0, 1, 1, 1, 2, 1, 2, 0, 1, 1, 2, 1, 0, 1, 0, 1, 0, 2, 1, 2, 2, 1, 1, 0, 1, 1, 0, 1, 1, 0, 0, 0, 2, 1, 1, 2, 2, 0, 0, 1, 2, 1, 0, 0, 2, 2, 0, 1, 1, 2, 1, 2, 0, 2, 2, 1, 1, 2, 2, 0, 2, 1, 1, 2, 0, 0, 1, 1, 1, 0, 1, 0, 1, 1, 1, 2, 2, 1, 1, 2, 0, 1, 1, 1, 2, 2, 1, 0, 1, 2, 1, 0, 1, 1, 1, 0, 1, 0, 1, 1, 0, 1, 1, 1, 1, 1, 1, 0, 1, 0, 0, 1, 1, 1, 1, 1, 1, 1, 0, 1, 2, 0, 1, 1, 1, 1, 1, 0, 2, 1, 1, 1, 2, 1, 1, 1, 1, 0, 0, 1, 1, 0, 1, 0, 1, 1, 2, 0, 1, 0, 2, 2, 1, 2, 1, 1, 2, 1, 1, 1, 1, 0, 1, 1, 0, 1, 0, 1, 0, 1, 1, 1, 1, 2, 2, 2, 2, 2, 1, 1, 1, 1, 1, 1, 1, 1, 0, 0, 0, 1, 1, 1, 1, 0, 1, 1, 0, 0, 1, 1, 0, 1, 0, 0, 1, 1, 0, 1, 1, 1, 2, 0, 1, 1, 1, 0, 0, 2, 1, 2, 1, 0, 1, 2, 1, 0, 1, 1, 0, 1, 0, 1, 1, 1, 0, 2, 2, 1, 1, 1, 2, 1, 0, 0, 1, 1, 2, 0, 1, 1, 0, 2, 0, 0, 0, 2, 0, 2, 0, 2, 1, 1, 1, 1, 1, 2, 0, 0, 0, 1, 0, 2, 1, 0, 1, 2, 1, 0, 1, 1, 0, 0, 0, 0, 0, 0, 0, 1, 1, 1, 1, 2, 2, 1, 0, 2, 1, 1, 1, 1, 1, 2, 0, 0, 0, 1, 2, 1, 1, 0, 0, 1, 1, 1, 1, 0, 0, 0, 0, 1, 1, 0, 1, 1, 1, 0, 1, 2, 0, 2, 1, 1, 1, 2, 0, 0, 1, 2, 1, 1, 2, 0, 0, 0, 1, 2, 0, 1, 1, 1, 1, 1, 1, 1, 1, 0, 2, 0, 2, 0, 1, 1, 0, 1, 1, 2, 1, 0, 2, 1, 1, 1, 1, 2, 1, 2, 1, 1, 2, 1, 0, 2, 1, 1, 0, 2, 1, 2, 2, 0, 0, 2, 2, 0, 1, 1, 1, 0, 2, 1, 2, 0, 0, 1, 1, 0, 1, 1, 0, 1, 1, 2, 1, 1, 0, 1, 1, 1, 1, 1, 1, 0, 1, 0, 0, 0, 0, 2, 0, 0, 1, 0, 1, 1, 2, 0, 1, 1, 1, 2, 1, 1, 1, 1, 1, 1, 1, 1, 1, 1, 0, 0, 0, 0, 1, 1, 1, 1, 0, 1, 1, 1, 1, 0, 1, 0, 1, 2, 0, 2, 1, 1, 2, 2, 1, 1, 1, 1, 1, 2, 1, 1, 1, 0, 2, 2, 1, 0, 1, 1, 1, 1, 0, 1, 0, 2, 1, 1, 1, 1, 1, 0, 0, 1, 1, 0, 0, 0, 1, 0, 0, 1, 1, 1, 2, 2, 1, 0, 1, 1, 0, 1, 1, 1, 2, 0, 2, 1, 2, 2, 1, 1, 1, 0, 1, 2, 1, 1, 0, 2, 0, 2, 1, 1, 0, 1, 0, 1, 0, 1, 1, 0, 1, 1, 1, 0, 1, 1, 1, 0, 1, 1, 1, 1, 2, 1, 0, 1, 0, 1, 1, 1, 0, 1, 1, 1, 2, 2, 0, 2, 0, 1, 1, 1, 0, 0, 1, 1, 0, 1, 0, 1, 2, 2, 1, 2, 1, 0, 1, 1, 0, 1, 1, 0, 0, 0, 1, 1, 0, 1, 1, 1, 0, 1, 1, 1, 2, 1, 0, 1, 1, 1, 0, 0, 1, 1, 2, 0, 0, 0, 1, 1, 2, 1, 0, 2, 0, 1, 1, 0, 0, 1, 0, 1, 0, 1, 1, 2, 2, 1, 0, 1, 0, 1, 0, 0, 1, 2, 0, 1, 1, 1, 1, 2, 0, 1, 1, 1, 2, 1, 0, 0, 1, 0, 2, 1, 1, 0, 2, 1, 2, 1, 1, 1, 1, 1, 2, 1, 2, 2, 1, 1, 1, 1, 1, 1, 2, 1, 2, 1, 0, 2, 1, 1, 1, 0, 1, 1, 0, 0, 1, 1, 1, 1, 2, 0, 1, 0, 1, 0, 1, 1, 0, 1, 0, 2, 1, 1, 0, 2, 0, 1, 2, 1, 1, 1, 1, 2, 1, 2, 0, 0, 1, 1, 1, 0, 1, 1, 2, 1, 2, 1, 2, 1, 0, 1, 1, 1, 2, 1, 1, 1, 1, 0, 0, 2, 2, 1, 1, 0, 1, 1, 1, 0, 0, 1, 2, 1, 1, 1, 0, 0, 0, 0, 1, 0, 1, 2, 1, 1, 2, 1, 2, 1, 0, 2, 1, 2, 2, 1, 1, 0, 2, 1, 1, 1, 1, 1, 1, 0, 0, 0, 0, 0, 1, 0, 1, 1, 1, 1, 2, 2, 0, 2, 0, 1, 0, 0, 0, 1, 1, 1, 2, 1, 1, 2, 1, 1, 0, 1, 2, 0, 1, 0, 0, 1, 1, 0, 2, 0, 0, 1, 1, 1, 1, 1, 2, 1, 1, 1, 2, 1, 1, 2, 1, 0, 1, 2, 2, 2, 0, 0, 0, 0, 0, 1, 1, 1, 2, 0, 1, 1, 1, 0, 1, 0, 1, 1, 2, 0, 1, 2, 2, 0, 2, 1, 0, 0, 1, 1, 1, 2, 2, 1, 1, 0, 2, 2, 2, 1, 1, 0, 1, 1, 0, 0, 2, 1, 1, 1, 1, 1, 1, 0, 1, 1, 2, 2, 2, 0, 0, 1, 1, 0, 1, 1, 0, 0, 2, 1, 1, 1, 1, 0, 0, 0, 2, 1, 0, 1, 1, 1, 1, 1, 1, 1, 1, 2, 0, 1, 1, 1, 2, 2, 1, 1, 1, 0, 0, 2, 1, 0, 1, 1, 2, 1, 0, 0, 1, 2, 1, 1, 1, 0, 1, 1, 1, 1, 1, 1, 2, 1, 2, 1, 1, 1, 2, 2, 1, 1, 1, 1, 1, 0, 1, 1, 0, 2, 1, 0, 0, 1, 0, 2, 1, 1, 2, 1, 1, 1, 2, 1, 2, 1, 0, 1, 0, 1, 1, 2, 1, 0, 2, 0, 1, 1, 1, 2, 1, 0, 1, 0, 1, 1, 1, 1, 1, 1, 1, 1, 1, 1, 1, 2, 2, 1, 2, 1, 1, 0, 0, 1, 1, 1, 0, 1, 1, 1, 2, 1, 1, 1, 2, 1, 0, 0, 0, 2, 1, 1, 0, 2, 0, 0, 1, 2, 2, 2, 2, 1, 1, 1, 2, 1, 1, 0, 0, 1, 1, 2, 1, 0, 1, 1, 1, 1, 0, 0, 1, 2, 1, 1, 1, 1, 1, 0, 1, 1, 1, 2, 2, 0, 2, 1, 1, 1, 1, 0, 1, 1, 1, 1, 1, 0, 0, 0, 1, 1, 1, 1, 1, 1, 0, 1, 1, 1, 2, 1, 0, 0, 1, 1, 1, 0, 2, 1, 0, 1, 1, 1, 1, 1, 1, 1, 1, 1, 1, 1, 1, 1, 1, 0, 0, 1, 1, 1, 1, 1, 0, 1, 1, 1, 1, 1, 0, 1, 2, 1, 1, 1, 0, 0, 0, 2, 0, 1, 1, 2, 0, 2, 1, 2, 2, 0, 0, 1, 0, 0, 1, 1, 1, 1, 1, 2, 1, 0, 2, 1, 1, 0, 2, 1, 1, 2, 1, 0, 2, 1, 2, 1, 1, 1, 0, 1, 1, 1, 0, 1, 1, 1, 1, 1, 1, 1, 0, 1, 1, 0, 0, 0, 1, 2, 0, 1, 0, 1, 0, 2, 2, 1, 1, 1, 0, 2, 1, 2, 1, 1, 0, 2, 0, 1, 1, 1, 1, 1, 0, 2, 1, 2, 1, 1, 1, 1, 2, 1, 2, 1, 2, 1, 1, 1, 1, 0, 1, 2, 0, 0, 1, 1, 1, 1, 1, 1, 2, 1, 2, 1, 1, 2, 1, 2, 1, 1, 1, 0, 0, 1, 0, 2, 1, 1, 1, 1, 1, 0, 1, 0, 0, 1, 2, 1, 1, 1, 0, 1, 1, 1, 1, 1, 1, 1, 1, 2, 0, 1, 1, 2, 1, 0, 0, 0, 2, 1, 2, 1, 0, 1, 1, 1, 1, 2, 1, 2, 2, 1, 1, 2, 1, 0, 0, 0, 2, 0, 0, 0, 2, 1, 1, 0, 2, 0, 0, 0, 2, 0, 1, 1, 1, 0, 1, 1, 1, 1, 0, 2, 1, 1, 0, 2, 1, 0, 1, 1, 2, 1, 0, 1, 2, 1, 1, 1, 2, 1, 1, 1, 1, 2, 1, 1, 0, 1, 1, 2, 1, 1, 1, 1, 1, 1, 2, 2, 1, 1, 2, 1, 0, 1, 2, 1, 1, 1, 1, 1, 1, 0, 0, 1, 1, 1, 2, 1, 2, 1, 0, 1, 1, 0, 2, 2, 1, 1, 1, 1, 1, 1, 1, 0, 2, 1, 0, 0, 1, 1, 1, 1, 1, 0, 0, 2, 1, 1, 1, 1, 0, 1, 1, 2, 1, 0, 1, 0, 1, 1, 2, 1, 1, 1, 1, 1, 0, 2, 0, 1, 1, 1, 1, 1, 1, 0, 0, 0, 1, 1, 2, 1, 1, 2, 2, 0, 1, 1, 1, 1, 1, 0, 2, 0, 1, 2, 1, 0, 1, 1, 1, 2, 0, 1, 2, 1, 0, 2, 2, 0, 1, 2, 2, 2, 1, 2, 1, 1, 1, 2, 2, 2, 0, 0, 1, 0, 1, 1, 0, 2, 1, 1, 1, 1, 1, 1, 0, 1, 0, 1, 0, 1, 1, 0, 1, 2, 0, 0, 0, 1, 1, 1, 2, 1, 2, 1, 1, 1, 2, 2, 1, 0, 2, 0, 0, 1, 0, 1, 1, 0, 1, 1, 2, 0, 2, 1, 1, 0, 1, 1, 0, 1, 1, 2, 1, 0, 1, 1, 2, 0, 1, 2, 2, 2, 1, 0, 1, 2, 1, 2, 0, 1, 1, 1, 1, 2, 1, 1, 1, 0, 2, 1, 1, 0, 2, 2, 2, 0, 1, 0, 1, 2, 1, 1, 2, 0, 1, 1, 0, 1, 2, 1, 2, 1, 1, 0, 2, 1, 1, 1, 1, 1, 0, 0, 1, 1, 1, 1, 1, 2, 1, 1, 0, 1, 1, 1, 0, 1, 1, 1, 2, 1, 2, 1, 1, 2, 2, 0, 1, 0, 1, 1, 2, 0, 1, 0, 2, 1, 1, 0, 0, 0, 0, 0, 1, 1, 0, 1, 2, 2, 1, 1, 2, 1, 1, 1, 0, 2, 1, 1, 0, 2, 2, 1, 0, 2, 2, 2, 2, 1, 0, 1, 1, 2, 0, 2, 2, 2, 2, 1, 2, 2, 2, 0, 2, 2, 1, 1, 1, 1, 2, 1, 1, 2, 1, 1, 1, 1, 1, 2, 0, 1, 1, 0, 2, 1, 1, 2, 1, 1, 1, 1, 1, 1, 1, 2, 0, 0, 1, 2, 2, 1, 0, 2, 1, 1, 0, 1, 1, 2, 2, 1, 2, 0, 1, 1, 0, 0, 1, 2, 1, 1, 2, 1, 1, 1, 0, 1, 1, 1, 1, 1, 1, 1, 2, 1, 1, 0, 1, 1, 0, 2, 1, 0, 0, 1, 0, 1, 2, 1, 2, 2, 0, 2, 2, 1, 2, 2, 0, 2, 1, 1, 2, 2, 1, 1, 1, 1, 1, 1, 0, 1, 2, 0, 1, 2, 1, 2, 1, 1, 1, 1, 2, 0, 1, 2, 2, 1, 1, 1, 2, 1, 1, 1, 0, 0, 2, 1, 2, 1, 1, 0, 1, 1, 2, 0, 2, 0, 1, 0, 1, 1, 1, 0, 2, 0, 2, 2, 0, 0, 1, 1, 1, 1, 1, 2, 1, 2, 1, 2, 0, 0, 2, 1, 1, 0, 2, 1, 0, 1, 0, 1, 1, 0, 1, 1, 0, 1, 0, 1, 0, 2, 0, 1, 2, 2, 0, 1, 1, 1, 1, 0, 2, 2, 1, 1, 1, 1, 2, 2, 1, 0, 1, 1, 0, 1, 2, 2, 2, 1, 1, 0, 1, 2, 1, 1, 1, 0, 2, 1, 1, 1, 1, 1, 2, 1, 1, 2, 1, 1, 0, 0, 0, 1, 1, 1, 1, 2, 1, 0, 0, 1, 1, 2, 2, 2, 0, 1, 2, 1, 1, 0, 2, 1, 1, 1, 1, 1, 1, 1, 2, 1, 1, 1, 1, 1, 0, 2, 0, 2, 2, 1, 2, 1, 1, 1, 1, 1, 2, 2, 1, 1, 1, 0, 1, 2, 0, 2, 0, 1, 2, 0, 1, 0, 2, 1, 0, 1, 1, 1, 0, 1, 1, 1, 1, 1, 0, 0, 1, 1, 2, 1, 1, 1, 1, 1, 0, 1, 1, 1, 0, 2, 0, 2, 0, 0, 1, 1, 0, 0, 1, 1, 0, 1, 0, 2, 2, 1, 1, 1, 1, 1, 1, 1, 1, 0, 1, 1, 1, 1, 1, 1, 0, 1, 1, 1, 2, 1, 1, 0, 1, 1, 0, 1, 0, 2, 2, 0, 2, 1, 2, 2, 0, 0, 0, 1, 0, 1, 0, 0, 0, 1, 1, 2, 2, 2, 1, 2, 1, 2, 1, 2, 1, 0, 2, 1, 1, 1, 2, 0, 2, 1, 0, 0, 1, 1, 1, 1, 1, 1, 2, 1, 0, 2, 1, 0, 1, 1, 0, 0, 1, 2, 1, 2, 1, 1, 2, 2, 2, 0, 0, 0, 1, 2, 1, 1, 1, 1, 2, 2, 1, 2, 1, 0, 0, 0, 2, 1, 2, 1, 1, 1, 1, 0, 1, 1, 2, 0, 1, 1, 1, 2, 2, 1, 1, 1, 1, 0, 0, 1, 1, 2, 0, 1, 1, 2, 0, 2, 2, 1, 1, 2, 0, 2, 1, 2, 1, 1, 0, 1, 1, 1, 2, 0, 1, 2, 1, 2, 1, 1, 1, 1, 0, 0, 1, 0, 0, 0, 1, 1, 1, 2, 0, 0, 0, 1, 2, 1, 0, 0, 1, 1, 1, 1, 1, 0, 0, 2, 1, 2, 0, 1, 1, 1, 1, 0, 0]\n"
          ],
          "name": "stdout"
        }
      ]
    },
    {
      "cell_type": "markdown",
      "metadata": {
        "id": "Zl2lwiYMX4Mx",
        "colab_type": "text"
      },
      "source": [
        "Making the confusion matric using seaborn"
      ]
    },
    {
      "cell_type": "code",
      "metadata": {
        "id": "O4qsQkZv8bjU",
        "colab_type": "code",
        "colab": {
          "base_uri": "https://localhost:8080/",
          "height": 911
        },
        "outputId": "252a59ea-4c07-4c15-d88a-c2e70e9d9545"
      },
      "source": [
        "import seaborn as sb\n",
        "import matplotlib.pyplot as plt\n",
        "from sklearn import metrics\n",
        "\n",
        "class_names = ['neutral','positive','negative']\n",
        "cnf_matrix = metrics.confusion_matrix(y_test_1d, preds_1d)\n",
        "cnf_matrix = cnf_matrix.astype('float') / cnf_matrix.sum(axis=1)[:, np.newaxis]\n",
        "print(\"Normalized confusion matrix\")\n",
        "print(cnf_matrix)\n",
        "fig, ax = plt.subplots(figsize=(10,10))\n",
        "tick_marks = np.arange(len(class_names))\n",
        "sb.heatmap(pd.DataFrame(cnf_matrix,class_names,class_names), annot=True,annot_kws={\"size\": 20},square = True, cmap=\"YlGnBu\" ,fmt='.2f')\n",
        "ax.xaxis.set_label_position(\"bottom\")\n",
        "bottom, top = ax.get_ylim()\n",
        "ax.set_ylim(bottom + 0.5, top - 0.5)\n",
        "plt.tight_layout()\n",
        "plt.setp(ax.get_xticklabels(), rotation=45, ha=\"right\",\n",
        "             rotation_mode=\"anchor\")\n",
        "plt.title('Confusion matrix', y=1.1)\n",
        "plt.ylabel('True label')\n",
        "plt.xlabel('Predicted label')\n",
        "plt.show()"
      ],
      "execution_count": null,
      "outputs": [
        {
          "output_type": "stream",
          "text": [
            "/usr/local/lib/python3.6/dist-packages/statsmodels/tools/_testing.py:19: FutureWarning: pandas.util.testing is deprecated. Use the functions in the public API at pandas.testing instead.\n",
            "  import pandas.util.testing as tm\n"
          ],
          "name": "stderr"
        },
        {
          "output_type": "stream",
          "text": [
            "Normalized confusion matrix\n",
            "[[0.86492375 0.1276066  0.00746965]\n",
            " [0.0056839  0.98478181 0.00953429]\n",
            " [0.0400165  0.1109736  0.8490099 ]]\n"
          ],
          "name": "stdout"
        },
        {
          "output_type": "display_data",
          "data": {
            "image/png": "[encoded data removed]",
            "text/plain": [
              "<Figure size 720x720 with 2 Axes>"
            ]
          },
          "metadata": {
            "tags": [],
            "needs_background": "light"
          }
        }
      ]
    },
    {
      "cell_type": "markdown",
      "metadata": {
        "id": "ltrBfTM3aM9A",
        "colab_type": "text"
      },
      "source": [
        "For plotting training accuracies and losses"
      ]
    },
    {
      "cell_type": "code",
      "metadata": {
        "id": "XIsbDSHc9Qm3",
        "colab_type": "code",
        "colab": {
          "base_uri": "https://localhost:8080/",
          "height": 229
        },
        "outputId": "c383add1-4f54-46fc-b2ff-d7afa77b94ea"
      },
      "source": [
        "print(history.history.keys())  \n",
        "import matplotlib.pyplot as plt \n",
        "plt.figure(1)  \n",
        "  \n",
        "# summarize history for accuracy  \n",
        "  \n",
        "plt.subplot(211)  \n",
        "plt.plot(history.history['acc'])  \n",
        "#plt.plot(history.history['val_acc'])  \n",
        "plt.title('model accuracy')  \n",
        "plt.ylabel('accuracy')  \n",
        "plt.xlabel('epoch')  \n",
        "plt.legend(['train', 'test'], loc='upper left')  \n",
        "print(\"\\n\")  \n",
        "# summarize history for loss  \n",
        "  \n"
      ],
      "execution_count": null,
      "outputs": [
        {
          "output_type": "stream",
          "text": [
            "dict_keys(['loss', 'acc'])\n",
            "\n",
            "\n"
          ],
          "name": "stdout"
        },
        {
          "output_type": "display_data",
          "data": {
            "image/png": "[encoded data removed]",
            "text/plain": [
              "<Figure size 432x288 with 1 Axes>"
            ]
          },
          "metadata": {
            "tags": [],
            "needs_background": "light"
          }
        }
      ]
    },
    {
      "cell_type": "code",
      "metadata": {
        "id": "8iW7Gexd9UKP",
        "colab_type": "code",
        "colab": {
          "base_uri": "https://localhost:8080/",
          "height": 177
        },
        "outputId": "80ed1bf8-3a70-40f8-e315-da2d67b0f43a"
      },
      "source": [
        "plt.subplot(212)  \n",
        "plt.plot(history.history['loss'])  \n",
        "#plt.plot(history.history['val_loss'])  \n",
        "plt.title('model loss')  \n",
        "plt.ylabel('loss')  \n",
        "plt.xlabel('epoch')  \n",
        "plt.legend(['train', 'test'], loc='upper left')  \n",
        "plt.show()  "
      ],
      "execution_count": null,
      "outputs": [
        {
          "output_type": "display_data",
          "data": {
            "image/png": "[encoded data removed]",
            "text/plain": [
              "<Figure size 432x288 with 1 Axes>"
            ]
          },
          "metadata": {
            "tags": [],
            "needs_background": "light"
          }
        }
      ]
    }
  ]
}